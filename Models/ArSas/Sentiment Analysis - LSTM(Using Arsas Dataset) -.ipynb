{
  "cells": [
    {
      "cell_type": "markdown",
      "metadata": {
        "id": "En5KcfQ977aF"
      },
      "source": [
        "**Importing the libraries needed** "
      ]
    },
    {
      "cell_type": "code",
      "execution_count": 1,
      "metadata": {
        "id": "UedihKbFaGRw"
      },
      "outputs": [],
      "source": [
        "import numpy as np\n",
        "import pandas as pd\n",
        "import time\n",
        "\n",
        "\n",
        "import matplotlib.pyplot as plt\n",
        "import seaborn as sns\n",
        "\n",
        "import re\n",
        "import string\n",
        "\n",
        "from sklearn.model_selection import train_test_split\n",
        "from sklearn.metrics import confusion_matrix, classification_report, accuracy_score\n",
        "\n",
        "import gensim\n",
        "from gensim.models import KeyedVectors\n",
        "\n",
        "from keras.preprocessing.text import Tokenizer\n",
        "from keras.preprocessing.sequence import pad_sequences\n",
        "\n",
        "import tensorflow as tf\n",
        "from keras.models import Sequential\n",
        "from tensorflow.keras.layers import SpatialDropout1D, Conv1D, Bidirectional, LSTM, Dense, Input, Dropout, GlobalMaxPooling1D\n",
        "from keras.layers.embeddings import Embedding\n",
        "from tensorflow.keras.callbacks import ModelCheckpoint, ReduceLROnPlateau, EarlyStopping\n",
        "from tensorflow.keras.optimizers import Adam\n",
        "\n",
        "import itertools\n",
        "from numpy import loadtxt\n",
        "from keras.models import load_model\n",
        "\n",
        "import warnings\n",
        "warnings.filterwarnings(\"ignore\")"
      ]
    },
    {
      "cell_type": "markdown",
      "metadata": {
        "id": "xHYYJY5Eprjm"
      },
      "source": [
        "**Connecting to google drive**"
      ]
    },
    {
      "cell_type": "code",
      "execution_count": 2,
      "metadata": {
        "id": "naII_z2LacpB",
        "colab": {
          "base_uri": "https://localhost:8080/"
        },
        "outputId": "5812686e-c09b-47dc-f505-00e8135fd91a"
      },
      "outputs": [
        {
          "output_type": "stream",
          "name": "stdout",
          "text": [
            "Mounted at /content/gdrive\n"
          ]
        }
      ],
      "source": [
        "from google.colab import drive\n",
        "drive.mount(\"/content/gdrive\")"
      ]
    },
    {
      "cell_type": "markdown",
      "metadata": {
        "id": "BADzPl6RpzKe"
      },
      "source": [
        " \n",
        "**Uploading the dataset**"
      ]
    },
    {
      "cell_type": "code",
      "execution_count": 3,
      "metadata": {
        "id": "dXhCSDNvbkkU"
      },
      "outputs": [],
      "source": [
        "path_data = \"/content/gdrive/MyDrive/thesis/modified.csv\"\n",
        "\n",
        "Arsas = pd.read_csv(path_data ,sep='\\t')"
      ]
    },
    {
      "cell_type": "code",
      "execution_count": 4,
      "metadata": {
        "id": "DKkvAv13el-g"
      },
      "outputs": [],
      "source": [
        "data = Arsas"
      ]
    },
    {
      "cell_type": "markdown",
      "metadata": {
        "id": "bJQzPQ_gp_O4"
      },
      "source": [
        "**printing the first 3 rows of the data**"
      ]
    },
    {
      "cell_type": "code",
      "execution_count": 5,
      "metadata": {
        "id": "q7feEPcNf3r5",
        "colab": {
          "base_uri": "https://localhost:8080/",
          "height": 143
        },
        "outputId": "5f02bd19-b75a-41b1-8d27-b122df6dd9ca"
      },
      "outputs": [
        {
          "output_type": "execute_result",
          "data": {
            "text/plain": [
              "            #Tweet_ID                                         Tweet_text  \\\n",
              "0  929241870508724224  المباراة القـادمة #غانا x #مصر الجولة الأخيرة ...   \n",
              "1  928942264583376897  هل هذه هي سياسة خارجيه لدوله تحترم نفسها والآخ...   \n",
              "2  928615163250520065  وزير خارجية فرنسا عن منتدى شباب العالم: شعرت ب...   \n",
              "\n",
              "  Sentiment_label  \n",
              "0        Positive  \n",
              "1        Negative  \n",
              "2        Positive  "
            ],
            "text/html": [
              "\n",
              "  <div id=\"df-865c1905-feab-4f09-972f-0c5cb787b385\">\n",
              "    <div class=\"colab-df-container\">\n",
              "      <div>\n",
              "<style scoped>\n",
              "    .dataframe tbody tr th:only-of-type {\n",
              "        vertical-align: middle;\n",
              "    }\n",
              "\n",
              "    .dataframe tbody tr th {\n",
              "        vertical-align: top;\n",
              "    }\n",
              "\n",
              "    .dataframe thead th {\n",
              "        text-align: right;\n",
              "    }\n",
              "</style>\n",
              "<table border=\"1\" class=\"dataframe\">\n",
              "  <thead>\n",
              "    <tr style=\"text-align: right;\">\n",
              "      <th></th>\n",
              "      <th>#Tweet_ID</th>\n",
              "      <th>Tweet_text</th>\n",
              "      <th>Sentiment_label</th>\n",
              "    </tr>\n",
              "  </thead>\n",
              "  <tbody>\n",
              "    <tr>\n",
              "      <th>0</th>\n",
              "      <td>929241870508724224</td>\n",
              "      <td>المباراة القـادمة #غانا x #مصر الجولة الأخيرة ...</td>\n",
              "      <td>Positive</td>\n",
              "    </tr>\n",
              "    <tr>\n",
              "      <th>1</th>\n",
              "      <td>928942264583376897</td>\n",
              "      <td>هل هذه هي سياسة خارجيه لدوله تحترم نفسها والآخ...</td>\n",
              "      <td>Negative</td>\n",
              "    </tr>\n",
              "    <tr>\n",
              "      <th>2</th>\n",
              "      <td>928615163250520065</td>\n",
              "      <td>وزير خارجية فرنسا عن منتدى شباب العالم: شعرت ب...</td>\n",
              "      <td>Positive</td>\n",
              "    </tr>\n",
              "  </tbody>\n",
              "</table>\n",
              "</div>\n",
              "      <button class=\"colab-df-convert\" onclick=\"convertToInteractive('df-865c1905-feab-4f09-972f-0c5cb787b385')\"\n",
              "              title=\"Convert this dataframe to an interactive table.\"\n",
              "              style=\"display:none;\">\n",
              "        \n",
              "  <svg xmlns=\"http://www.w3.org/2000/svg\" height=\"24px\"viewBox=\"0 0 24 24\"\n",
              "       width=\"24px\">\n",
              "    <path d=\"M0 0h24v24H0V0z\" fill=\"none\"/>\n",
              "    <path d=\"M18.56 5.44l.94 2.06.94-2.06 2.06-.94-2.06-.94-.94-2.06-.94 2.06-2.06.94zm-11 1L8.5 8.5l.94-2.06 2.06-.94-2.06-.94L8.5 2.5l-.94 2.06-2.06.94zm10 10l.94 2.06.94-2.06 2.06-.94-2.06-.94-.94-2.06-.94 2.06-2.06.94z\"/><path d=\"M17.41 7.96l-1.37-1.37c-.4-.4-.92-.59-1.43-.59-.52 0-1.04.2-1.43.59L10.3 9.45l-7.72 7.72c-.78.78-.78 2.05 0 2.83L4 21.41c.39.39.9.59 1.41.59.51 0 1.02-.2 1.41-.59l7.78-7.78 2.81-2.81c.8-.78.8-2.07 0-2.86zM5.41 20L4 18.59l7.72-7.72 1.47 1.35L5.41 20z\"/>\n",
              "  </svg>\n",
              "      </button>\n",
              "      \n",
              "  <style>\n",
              "    .colab-df-container {\n",
              "      display:flex;\n",
              "      flex-wrap:wrap;\n",
              "      gap: 12px;\n",
              "    }\n",
              "\n",
              "    .colab-df-convert {\n",
              "      background-color: #E8F0FE;\n",
              "      border: none;\n",
              "      border-radius: 50%;\n",
              "      cursor: pointer;\n",
              "      display: none;\n",
              "      fill: #1967D2;\n",
              "      height: 32px;\n",
              "      padding: 0 0 0 0;\n",
              "      width: 32px;\n",
              "    }\n",
              "\n",
              "    .colab-df-convert:hover {\n",
              "      background-color: #E2EBFA;\n",
              "      box-shadow: 0px 1px 2px rgba(60, 64, 67, 0.3), 0px 1px 3px 1px rgba(60, 64, 67, 0.15);\n",
              "      fill: #174EA6;\n",
              "    }\n",
              "\n",
              "    [theme=dark] .colab-df-convert {\n",
              "      background-color: #3B4455;\n",
              "      fill: #D2E3FC;\n",
              "    }\n",
              "\n",
              "    [theme=dark] .colab-df-convert:hover {\n",
              "      background-color: #434B5C;\n",
              "      box-shadow: 0px 1px 3px 1px rgba(0, 0, 0, 0.15);\n",
              "      filter: drop-shadow(0px 1px 2px rgba(0, 0, 0, 0.3));\n",
              "      fill: #FFFFFF;\n",
              "    }\n",
              "  </style>\n",
              "\n",
              "      <script>\n",
              "        const buttonEl =\n",
              "          document.querySelector('#df-865c1905-feab-4f09-972f-0c5cb787b385 button.colab-df-convert');\n",
              "        buttonEl.style.display =\n",
              "          google.colab.kernel.accessAllowed ? 'block' : 'none';\n",
              "\n",
              "        async function convertToInteractive(key) {\n",
              "          const element = document.querySelector('#df-865c1905-feab-4f09-972f-0c5cb787b385');\n",
              "          const dataTable =\n",
              "            await google.colab.kernel.invokeFunction('convertToInteractive',\n",
              "                                                     [key], {});\n",
              "          if (!dataTable) return;\n",
              "\n",
              "          const docLinkHtml = 'Like what you see? Visit the ' +\n",
              "            '<a target=\"_blank\" href=https://colab.research.google.com/notebooks/data_table.ipynb>data table notebook</a>'\n",
              "            + ' to learn more about interactive tables.';\n",
              "          element.innerHTML = '';\n",
              "          dataTable['output_type'] = 'display_data';\n",
              "          await google.colab.output.renderOutput(dataTable, element);\n",
              "          const docLink = document.createElement('div');\n",
              "          docLink.innerHTML = docLinkHtml;\n",
              "          element.appendChild(docLink);\n",
              "        }\n",
              "      </script>\n",
              "    </div>\n",
              "  </div>\n",
              "  "
            ]
          },
          "metadata": {},
          "execution_count": 5
        }
      ],
      "source": [
        "data.head(3)"
      ]
    },
    {
      "cell_type": "markdown",
      "metadata": {
        "id": "VwXDd4oUqKZL"
      },
      "source": [
        "**printing the shape of the dataset nbr of row and columns**"
      ]
    },
    {
      "cell_type": "code",
      "execution_count": 6,
      "metadata": {
        "id": "MB8JS7NNtQpf",
        "colab": {
          "base_uri": "https://localhost:8080/"
        },
        "outputId": "9445594b-ab05-4fee-ec45-1c737c9ccc83"
      },
      "outputs": [
        {
          "output_type": "stream",
          "name": "stdout",
          "text": [
            "Data contient 21064 lignes et 3 colonnes.\n"
          ]
        }
      ],
      "source": [
        "print(\"Data contient {} lignes et {} colonnes.\".format(data.shape[0], data.shape[1]))"
      ]
    },
    {
      "cell_type": "markdown",
      "metadata": {
        "id": "HU9GqLArqYls"
      },
      "source": [
        " **printing the fiels with missed values**\n",
        "\n"
      ]
    },
    {
      "cell_type": "code",
      "execution_count": 7,
      "metadata": {
        "id": "-ZY0H2oYtaBA",
        "colab": {
          "base_uri": "https://localhost:8080/"
        },
        "outputId": "a191d567-6383-4e73-a962-4337a007256f"
      },
      "outputs": [
        {
          "output_type": "execute_result",
          "data": {
            "text/plain": [
              "#Tweet_ID          0\n",
              "Tweet_text         0\n",
              "Sentiment_label    0\n",
              "dtype: int64"
            ]
          },
          "metadata": {},
          "execution_count": 7
        }
      ],
      "source": [
        "data.isnull().sum()"
      ]
    },
    {
      "cell_type": "markdown",
      "metadata": {
        "id": "xzjbolY5qyrw"
      },
      "source": [
        "**printing the number of the duplicated rows**"
      ]
    },
    {
      "cell_type": "code",
      "execution_count": 8,
      "metadata": {
        "id": "pLckLWmUxZMM",
        "colab": {
          "base_uri": "https://localhost:8080/"
        },
        "outputId": "0375f3c1-c879-4977-c4a6-a8bef06d4950"
      },
      "outputs": [
        {
          "output_type": "stream",
          "name": "stdout",
          "text": [
            "On a  68 doublons dans Data.\n"
          ]
        }
      ],
      "source": [
        "print(\"On a  {} doublons dans Data.\".format(data.duplicated().sum()))"
      ]
    },
    {
      "cell_type": "code",
      "execution_count": 9,
      "metadata": {
        "id": "gYpaP9TskZaK"
      },
      "outputs": [],
      "source": [
        "data.drop_duplicates(inplace = True)"
      ]
    },
    {
      "cell_type": "code",
      "execution_count": 10,
      "metadata": {
        "id": "hy5zempckaeG",
        "colab": {
          "base_uri": "https://localhost:8080/"
        },
        "outputId": "38cd09a7-749a-481d-b221-467ab43d7725"
      },
      "outputs": [
        {
          "output_type": "stream",
          "name": "stdout",
          "text": [
            "On a  0 doublons dans Data.\n"
          ]
        }
      ],
      "source": [
        "print(\"On a  {} doublons dans Data.\".format(data.duplicated().sum()))"
      ]
    },
    {
      "cell_type": "markdown",
      "metadata": {
        "id": "N9MMOuUlrAAm"
      },
      "source": [
        "**checking the types of the fiels in the data**"
      ]
    },
    {
      "cell_type": "code",
      "execution_count": 11,
      "metadata": {
        "id": "JKvnEbNDuMXH",
        "colab": {
          "base_uri": "https://localhost:8080/"
        },
        "outputId": "1646623e-63e2-4ca5-e358-11b80e23d525"
      },
      "outputs": [
        {
          "output_type": "execute_result",
          "data": {
            "text/plain": [
              "#Tweet_ID           int64\n",
              "Tweet_text         object\n",
              "Sentiment_label    object\n",
              "dtype: object"
            ]
          },
          "metadata": {},
          "execution_count": 11
        }
      ],
      "source": [
        "data.dtypes"
      ]
    },
    {
      "cell_type": "markdown",
      "metadata": {
        "id": "8v0AK1OUrQGz"
      },
      "source": [
        "**function for printing the pie**"
      ]
    },
    {
      "cell_type": "code",
      "execution_count": 12,
      "metadata": {
        "id": "NKsJG1v6xmwu"
      },
      "outputs": [],
      "source": [
        "def pie(data,col):\n",
        "    labels = data[col].value_counts().keys().tolist()\n",
        "    n = len(labels)\n",
        "    if n==2:\n",
        "        colors = ['#66b3ff', '#fb3999']\n",
        "    elif n==3:\n",
        "        colors = ['#66b3ff', '#fb3999', '#ffcc99']\n",
        "    elif n==4:\n",
        "        colors = ['#66b3ff', '#fb3999', '#ffcc99',\"#66f3ff\"]\n",
        "    elif n==5:\n",
        "        colors = ['#66b3ff', '#fb3999', '#ffcc99',\"#66f3ff\",'#adcc99']\n",
        "    elif n==6:\n",
        "        colors = ['#66b3ff', '#fb3999', '#ffcc99',\"#66f3ff\",'#adcc99',\"#db7f23\"]\n",
        "    \n",
        "    fig1, f1 = plt.subplots()\n",
        "    f1.pie(data[col].value_counts(), labels=labels, colors = colors, autopct='%1.1f%%',shadow=False, startangle=60) \n",
        "    f1.axis('equal')\n",
        "    plt.tight_layout()\n",
        "    plt.show()\n",
        "    \n",
        "def histo(data,col):\n",
        "    plt.figure(figsize = (10, 8))\n",
        "    sns.histplot(data=data, x=col, hue = data[col], fill=True)"
      ]
    },
    {
      "cell_type": "markdown",
      "metadata": {
        "id": "jsHaFYHdrrEr"
      },
      "source": [
        "**Counting the % of each classe**"
      ]
    },
    {
      "cell_type": "code",
      "execution_count": 13,
      "metadata": {
        "id": "tp-nT2EBxmg5",
        "colab": {
          "base_uri": "https://localhost:8080/"
        },
        "outputId": "4f771832-4bde-483d-c0d8-1328518148ce"
      },
      "outputs": [
        {
          "output_type": "execute_result",
          "data": {
            "text/plain": [
              "Negative    0.371404\n",
              "Neutral     0.346018\n",
              "Positive    0.220566\n",
              "Mixed       0.062012\n",
              "Name: Sentiment_label, dtype: float64"
            ]
          },
          "metadata": {},
          "execution_count": 13
        }
      ],
      "source": [
        "data.Sentiment_label.value_counts(normalize = True)"
      ]
    },
    {
      "cell_type": "markdown",
      "metadata": {
        "id": "KGUDWDHGsLtZ"
      },
      "source": [
        "**Printing the distribution of the classes**"
      ]
    },
    {
      "cell_type": "code",
      "execution_count": 14,
      "metadata": {
        "id": "MXfBwk6-xmZD",
        "colab": {
          "base_uri": "https://localhost:8080/",
          "height": 297
        },
        "outputId": "b5241c5d-1863-4651-9573-5239a20715fa"
      },
      "outputs": [
        {
          "output_type": "display_data",
          "data": {
            "text/plain": [
              "<Figure size 432x288 with 1 Axes>"
            ],
            "image/png": "[encoded data removed]"
          },
          "metadata": {}
        }
      ],
      "source": [
        "pie(data, \"Sentiment_label\")"
      ]
    },
    {
      "cell_type": "code",
      "execution_count": 15,
      "metadata": {
        "id": "COqPEvk8t0Vh"
      },
      "outputs": [],
      "source": [
        "positive = data[data[\"Sentiment_label\"] == \"Positive\"]\n",
        "positive[\"sentiment\"] = 1\n",
        "\n",
        "mixed = data[data[\"Sentiment_label\"] == \"Mixed\"]\n",
        "mixed[\"sentiment\"] = 2\n",
        "\n",
        "neutral = data[data[\"Sentiment_label\"] == \"Neutral\"]\n",
        "neutral[\"sentiment\"] = 3\n",
        "\n",
        "negative = data[data[\"Sentiment_label\"] == \"Negative\"]\n",
        "negative[\"sentiment\"] = 0\n",
        "\n",
        "data = pd.concat([positive, mixed, neutral, negative], ignore_index = True)"
      ]
    },
    {
      "cell_type": "code",
      "execution_count": 16,
      "metadata": {
        "id": "OzqkJKXOvWW0",
        "colab": {
          "base_uri": "https://localhost:8080/"
        },
        "outputId": "e680fcda-12c2-494d-b47e-556bd85a3774"
      },
      "outputs": [
        {
          "output_type": "stream",
          "name": "stdout",
          "text": [
            "data contient 20996 lignes.\n",
            "Positive contient 4631 lignes.\n",
            "Negative contient 7798 lignes.\n",
            "Mixed contient 1302 lignes.\n",
            "Neutral contient 7265 lignes.\n"
          ]
        }
      ],
      "source": [
        "print(\"data contient {} lignes.\".format(data.shape[0]))\n",
        "\n",
        "print(\"Positive contient {} lignes.\".format(positive.shape[0]))\n",
        "\n",
        "print(\"Negative contient {} lignes.\".format(negative.shape[0]))\n",
        "\n",
        "print(\"Mixed contient {} lignes.\".format(mixed.shape[0]))\n",
        "\n",
        "print(\"Neutral contient {} lignes.\".format(neutral.shape[0]))"
      ]
    },
    {
      "cell_type": "code",
      "execution_count": 17,
      "metadata": {
        "id": "x2w5XFYFvvVk",
        "colab": {
          "base_uri": "https://localhost:8080/",
          "height": 297
        },
        "outputId": "50df1812-7d5e-41f5-d0c0-2c4b963399f9"
      },
      "outputs": [
        {
          "output_type": "display_data",
          "data": {
            "text/plain": [
              "<Figure size 432x288 with 1 Axes>"
            ],
            "image/png": "[encoded data removed]"
          },
          "metadata": {}
        }
      ],
      "source": [
        "pie(data,\"sentiment\")"
      ]
    },
    {
      "cell_type": "code",
      "execution_count": 18,
      "metadata": {
        "id": "OrFZzbW4x_-6",
        "colab": {
          "base_uri": "https://localhost:8080/",
          "height": 498
        },
        "outputId": "6b3a3c3d-6464-4788-e688-2e4a07b8db39"
      },
      "outputs": [
        {
          "output_type": "display_data",
          "data": {
            "text/plain": [
              "<Figure size 720x576 with 1 Axes>"
            ],
            "image/png": "[encoded data removed]"
          },
          "metadata": {
            "needs_background": "light"
          }
        }
      ],
      "source": [
        "histo(data,\"Sentiment_label\")"
      ]
    },
    {
      "cell_type": "markdown",
      "metadata": {
        "id": "aQPXSoQQtxC-"
      },
      "source": [
        "**function to count the length of reviews**\n",
        "\n"
      ]
    },
    {
      "cell_type": "code",
      "execution_count": 19,
      "metadata": {
        "id": "HdnqI69vx_7F"
      },
      "outputs": [],
      "source": [
        "def compte_mots(phrase):\n",
        "    return len(phrase.split())\n",
        "\n",
        "data[\"len_review\"] = data[\"Tweet_text\"].apply(compte_mots)\n"
      ]
    },
    {
      "cell_type": "markdown",
      "metadata": {
        "id": "s0gPiiV7uE5T"
      },
      "source": [
        "**printing the max  length of the positive and negative reviews**"
      ]
    },
    {
      "cell_type": "code",
      "execution_count": 20,
      "metadata": {
        "id": "RUOg19_jx_28",
        "colab": {
          "base_uri": "https://localhost:8080/"
        },
        "outputId": "a9dea89d-4567-4941-d401-7d777e5cdef7"
      },
      "outputs": [
        {
          "output_type": "stream",
          "name": "stdout",
          "text": [
            "Le maximum de mots utilisé dans les reviews  est : 64\n",
            "Le moyen de mots utilisé dans les reviews est : 19.701657458563535\n"
          ]
        }
      ],
      "source": [
        "print(\"Le maximum de mots utilisé dans les reviews  est :\", max(data['len_review']))\n",
        "print(\"Le moyen de mots utilisé dans les reviews est :\", np.mean(data['len_review']))"
      ]
    },
    {
      "cell_type": "code",
      "execution_count": 21,
      "metadata": {
        "id": "zoWA0F5Ox_yo",
        "colab": {
          "base_uri": "https://localhost:8080/",
          "height": 569
        },
        "outputId": "a5091627-3aad-4e8d-d90d-4ee745d10c21"
      },
      "outputs": [
        {
          "output_type": "execute_result",
          "data": {
            "text/plain": [
              "(0.0, 100.0)"
            ]
          },
          "metadata": {},
          "execution_count": 21
        },
        {
          "output_type": "display_data",
          "data": {
            "text/plain": [
              "<Figure size 720x648 with 1 Axes>"
            ],
            "image/png": "[encoded data removed]"
          },
          "metadata": {
            "needs_background": "light"
          }
        }
      ],
      "source": [
        "plt.figure(figsize=(10,9))\n",
        "\n",
        "p1=sns.kdeplot(data['len_review'], hue = data['Sentiment_label'],  shade=True, color=\"r\")\n",
        "\n",
        "plt.xlim(0, 100)"
      ]
    },
    {
      "cell_type": "markdown",
      "metadata": {
        "id": "JizLU3m4vwvB"
      },
      "source": [
        "**Deleting unused fields**"
      ]
    },
    {
      "cell_type": "code",
      "execution_count": 22,
      "metadata": {
        "id": "3sSAEvcKx_vr",
        "colab": {
          "base_uri": "https://localhost:8080/",
          "height": 143
        },
        "outputId": "cddb9101-f21f-400a-f26d-3ddf0d70b1ae"
      },
      "outputs": [
        {
          "output_type": "execute_result",
          "data": {
            "text/plain": [
              "                                          Tweet_text Sentiment_label  \\\n",
              "0  المباراة القـادمة #غانا x #مصر الجولة الأخيرة ...        Positive   \n",
              "1  وزير خارجية فرنسا عن منتدى شباب العالم: شعرت ب...        Positive   \n",
              "2  بسم الله نبدأ 👏 نغرد علي وسم 👇 👇 👇 👇 👇 ↩ #شباب...        Positive   \n",
              "\n",
              "   sentiment  len_review  \n",
              "0          1          45  \n",
              "1          1          16  \n",
              "2          1          27  "
            ],
            "text/html": [
              "\n",
              "  <div id=\"df-86c7939d-a293-4773-b217-8575dab32502\">\n",
              "    <div class=\"colab-df-container\">\n",
              "      <div>\n",
              "<style scoped>\n",
              "    .dataframe tbody tr th:only-of-type {\n",
              "        vertical-align: middle;\n",
              "    }\n",
              "\n",
              "    .dataframe tbody tr th {\n",
              "        vertical-align: top;\n",
              "    }\n",
              "\n",
              "    .dataframe thead th {\n",
              "        text-align: right;\n",
              "    }\n",
              "</style>\n",
              "<table border=\"1\" class=\"dataframe\">\n",
              "  <thead>\n",
              "    <tr style=\"text-align: right;\">\n",
              "      <th></th>\n",
              "      <th>Tweet_text</th>\n",
              "      <th>Sentiment_label</th>\n",
              "      <th>sentiment</th>\n",
              "      <th>len_review</th>\n",
              "    </tr>\n",
              "  </thead>\n",
              "  <tbody>\n",
              "    <tr>\n",
              "      <th>0</th>\n",
              "      <td>المباراة القـادمة #غانا x #مصر الجولة الأخيرة ...</td>\n",
              "      <td>Positive</td>\n",
              "      <td>1</td>\n",
              "      <td>45</td>\n",
              "    </tr>\n",
              "    <tr>\n",
              "      <th>1</th>\n",
              "      <td>وزير خارجية فرنسا عن منتدى شباب العالم: شعرت ب...</td>\n",
              "      <td>Positive</td>\n",
              "      <td>1</td>\n",
              "      <td>16</td>\n",
              "    </tr>\n",
              "    <tr>\n",
              "      <th>2</th>\n",
              "      <td>بسم الله نبدأ 👏 نغرد علي وسم 👇 👇 👇 👇 👇 ↩ #شباب...</td>\n",
              "      <td>Positive</td>\n",
              "      <td>1</td>\n",
              "      <td>27</td>\n",
              "    </tr>\n",
              "  </tbody>\n",
              "</table>\n",
              "</div>\n",
              "      <button class=\"colab-df-convert\" onclick=\"convertToInteractive('df-86c7939d-a293-4773-b217-8575dab32502')\"\n",
              "              title=\"Convert this dataframe to an interactive table.\"\n",
              "              style=\"display:none;\">\n",
              "        \n",
              "  <svg xmlns=\"http://www.w3.org/2000/svg\" height=\"24px\"viewBox=\"0 0 24 24\"\n",
              "       width=\"24px\">\n",
              "    <path d=\"M0 0h24v24H0V0z\" fill=\"none\"/>\n",
              "    <path d=\"M18.56 5.44l.94 2.06.94-2.06 2.06-.94-2.06-.94-.94-2.06-.94 2.06-2.06.94zm-11 1L8.5 8.5l.94-2.06 2.06-.94-2.06-.94L8.5 2.5l-.94 2.06-2.06.94zm10 10l.94 2.06.94-2.06 2.06-.94-2.06-.94-.94-2.06-.94 2.06-2.06.94z\"/><path d=\"M17.41 7.96l-1.37-1.37c-.4-.4-.92-.59-1.43-.59-.52 0-1.04.2-1.43.59L10.3 9.45l-7.72 7.72c-.78.78-.78 2.05 0 2.83L4 21.41c.39.39.9.59 1.41.59.51 0 1.02-.2 1.41-.59l7.78-7.78 2.81-2.81c.8-.78.8-2.07 0-2.86zM5.41 20L4 18.59l7.72-7.72 1.47 1.35L5.41 20z\"/>\n",
              "  </svg>\n",
              "      </button>\n",
              "      \n",
              "  <style>\n",
              "    .colab-df-container {\n",
              "      display:flex;\n",
              "      flex-wrap:wrap;\n",
              "      gap: 12px;\n",
              "    }\n",
              "\n",
              "    .colab-df-convert {\n",
              "      background-color: #E8F0FE;\n",
              "      border: none;\n",
              "      border-radius: 50%;\n",
              "      cursor: pointer;\n",
              "      display: none;\n",
              "      fill: #1967D2;\n",
              "      height: 32px;\n",
              "      padding: 0 0 0 0;\n",
              "      width: 32px;\n",
              "    }\n",
              "\n",
              "    .colab-df-convert:hover {\n",
              "      background-color: #E2EBFA;\n",
              "      box-shadow: 0px 1px 2px rgba(60, 64, 67, 0.3), 0px 1px 3px 1px rgba(60, 64, 67, 0.15);\n",
              "      fill: #174EA6;\n",
              "    }\n",
              "\n",
              "    [theme=dark] .colab-df-convert {\n",
              "      background-color: #3B4455;\n",
              "      fill: #D2E3FC;\n",
              "    }\n",
              "\n",
              "    [theme=dark] .colab-df-convert:hover {\n",
              "      background-color: #434B5C;\n",
              "      box-shadow: 0px 1px 3px 1px rgba(0, 0, 0, 0.15);\n",
              "      filter: drop-shadow(0px 1px 2px rgba(0, 0, 0, 0.3));\n",
              "      fill: #FFFFFF;\n",
              "    }\n",
              "  </style>\n",
              "\n",
              "      <script>\n",
              "        const buttonEl =\n",
              "          document.querySelector('#df-86c7939d-a293-4773-b217-8575dab32502 button.colab-df-convert');\n",
              "        buttonEl.style.display =\n",
              "          google.colab.kernel.accessAllowed ? 'block' : 'none';\n",
              "\n",
              "        async function convertToInteractive(key) {\n",
              "          const element = document.querySelector('#df-86c7939d-a293-4773-b217-8575dab32502');\n",
              "          const dataTable =\n",
              "            await google.colab.kernel.invokeFunction('convertToInteractive',\n",
              "                                                     [key], {});\n",
              "          if (!dataTable) return;\n",
              "\n",
              "          const docLinkHtml = 'Like what you see? Visit the ' +\n",
              "            '<a target=\"_blank\" href=https://colab.research.google.com/notebooks/data_table.ipynb>data table notebook</a>'\n",
              "            + ' to learn more about interactive tables.';\n",
              "          element.innerHTML = '';\n",
              "          dataTable['output_type'] = 'display_data';\n",
              "          await google.colab.output.renderOutput(dataTable, element);\n",
              "          const docLink = document.createElement('div');\n",
              "          docLink.innerHTML = docLinkHtml;\n",
              "          element.appendChild(docLink);\n",
              "        }\n",
              "      </script>\n",
              "    </div>\n",
              "  </div>\n",
              "  "
            ]
          },
          "metadata": {},
          "execution_count": 22
        }
      ],
      "source": [
        "data.drop(['#Tweet_ID'], axis = 1, inplace = True)\n",
        "data.head(3)"
      ]
    },
    {
      "cell_type": "code",
      "execution_count": 23,
      "metadata": {
        "id": "EG7TlnWAxl4p",
        "colab": {
          "base_uri": "https://localhost:8080/"
        },
        "outputId": "22e73b10-0bc8-4787-972b-59c01227122e"
      },
      "outputs": [
        {
          "output_type": "execute_result",
          "data": {
            "text/plain": [
              "Tweet_text         object\n",
              "Sentiment_label    object\n",
              "sentiment           int64\n",
              "len_review          int64\n",
              "dtype: object"
            ]
          },
          "metadata": {},
          "execution_count": 23
        }
      ],
      "source": [
        "df = data\n",
        "df.dtypes"
      ]
    },
    {
      "cell_type": "markdown",
      "metadata": {
        "id": "zt-HChYHv6oR"
      },
      "source": [
        "**the function of the preprocessing**"
      ]
    },
    {
      "cell_type": "code",
      "execution_count": 24,
      "metadata": {
        "id": "S06YfDBayo2C"
      },
      "outputs": [],
      "source": [
        "def preprocessing(text):\n",
        "     \n",
        "    # ref: https://github.com/bakrianoo/aravec\n",
        "    search = [\"أ\",\"إ\",\"آ\",\"ة\",\"_\",\"-\",\"/\",\".\",\"،\",\" و \",\" يا \",'\"',\"ـ\",\"'\",\"ى\",\n",
        "              \"\\\\\",'\\n', '\\t','&quot;','?','؟','!']\n",
        "    replace = [\"ا\",\"ا\",\"ا\",\"ه\",\" \",\" \",\"\",\"\",\"\",\" و\",\" يا\",\n",
        "               \"\",\"\",\"\",\"ي\",\"\",' ', ' ',' ',' ? ',' ؟ ', ' ! ']\n",
        "    \n",
        "    tashkeel = re.compile(r'[\\u0617-\\u061A\\u064B-\\u0652]')\n",
        "    text = re.sub(tashkeel,\"\", text)\n",
        "    \n",
        "    longation = re.compile(r'(.)\\1+')\n",
        "    subst = r\"\\1\\1\"\n",
        "    text = re.sub(longation, subst, text)\n",
        "    \n",
        "    text = re.sub(r\"[^\\w\\s]\", '', text)\n",
        "    text = re.sub(r\"[a-zA-Z]\", '', text)\n",
        "    text = re.sub(r\"\\d+\", ' ', text)\n",
        "    text = re.sub(r\"\\n+\", ' ', text)\n",
        "    text = re.sub(r\"\\t+\", ' ', text)\n",
        "    text = re.sub(r\"\\r+\", ' ', text)\n",
        "    text = re.sub(r\"\\s+\", ' ', text)\n",
        "    text = text.replace('وو', 'و')\n",
        "    text = text.replace('يي', 'ي')\n",
        "    text = text.replace('اا', 'ا')\n",
        "    \n",
        "    for i in range(0, len(search)):\n",
        "        text = text.replace(search[i], replace[i])\n",
        "    \n",
        "    text = text.strip()\n",
        "    \n",
        "    return text\n",
        "\n"
      ]
    },
    {
      "cell_type": "markdown",
      "metadata": {
        "id": "-TA69444wCTs"
      },
      "source": [
        "**preprocessing the reviews and printing the time spent**"
      ]
    },
    {
      "cell_type": "code",
      "execution_count": 25,
      "metadata": {
        "id": "dCa_gwMYyovM",
        "colab": {
          "base_uri": "https://localhost:8080/"
        },
        "outputId": "d5e7a3ae-93bf-49bd-a9b7-bba2b142d300"
      },
      "outputs": [
        {
          "output_type": "stream",
          "name": "stdout",
          "text": [
            "CPU times: user 1 s, sys: 0 ns, total: 1 s\n",
            "Wall time: 999 ms\n"
          ]
        }
      ],
      "source": [
        "%%time\n",
        "data[\"Clean_reviews\"] = data.Tweet_text.apply(lambda x: preprocessing(x))"
      ]
    },
    {
      "cell_type": "markdown",
      "metadata": {
        "id": "EYqZdx-hwMJc"
      },
      "source": [
        "**printing a review before and after preprocessing**"
      ]
    },
    {
      "cell_type": "code",
      "execution_count": 26,
      "metadata": {
        "id": "uYBIFXA_yorI",
        "colab": {
          "base_uri": "https://localhost:8080/"
        },
        "outputId": "5a24353f-ec4a-4b2e-eb41-3e05e3499738"
      },
      "outputs": [
        {
          "output_type": "stream",
          "name": "stdout",
          "text": [
            "- Avant le prétraitement \n",
            "\n",
            " شارك بتصويت «BBC» لدعم محمد صلاح للحصول على جائزة الأفضل بأفريقيا https://t.co/t1Q0l0UlP\n",
            "\n",
            "-----------------------------------------------\n",
            "\n",
            "- Après le prétraitement \n",
            "\n",
            " شارك بتصويت لدعم محمد صلاح للحصول علي جائزه الافضل بافريقيا\n"
          ]
        }
      ],
      "source": [
        "print('- Avant le prétraitement \\n\\n',data[\"Tweet_text\"][4])\n",
        "print(\"\\n-----------------------------------------------\\n\")\n",
        "print('- Après le prétraitement \\n\\n',data[\"Clean_reviews\"][4])"
      ]
    },
    {
      "cell_type": "markdown",
      "metadata": {
        "id": "3Vzp8SzAwVT0"
      },
      "source": [
        "**Saving the cleaned data in a csv file**"
      ]
    },
    {
      "cell_type": "code",
      "execution_count": 27,
      "metadata": {
        "id": "QRxgl3Mdyom2"
      },
      "outputs": [],
      "source": [
        "data.to_csv(\"cleaned_Arsas.csv\")"
      ]
    },
    {
      "cell_type": "markdown",
      "metadata": {
        "id": "-gaLBhEqxFm4"
      },
      "source": [
        "**asigning the reviews and classes to a new variables**\n",
        "\n",
        "\n"
      ]
    },
    {
      "cell_type": "code",
      "execution_count": 28,
      "metadata": {
        "id": "WpJPNTiJyojS"
      },
      "outputs": [],
      "source": [
        "\n",
        "X = data.Clean_reviews\n",
        "y=pd.get_dummies(data.sentiment)\n",
        "# y = data.sentiment"
      ]
    },
    {
      "cell_type": "markdown",
      "metadata": {
        "id": "P4WSBjAMykJ9"
      },
      "source": [
        "**spliting the data to train and test set**\n",
        "\n"
      ]
    },
    {
      "cell_type": "code",
      "execution_count": 29,
      "metadata": {
        "id": "bpZ_HWVHyoe7"
      },
      "outputs": [],
      "source": [
        "X_train, X_test, y_train, y_test = train_test_split(X, \n",
        "                                                    y, \n",
        "                                                    test_size = 0.20, \n",
        "                                                    random_state = 42)"
      ]
    },
    {
      "cell_type": "markdown",
      "metadata": {
        "id": "Y4HZcNovzTam"
      },
      "source": [
        "**printing the number of the train set and the test set**"
      ]
    },
    {
      "cell_type": "code",
      "execution_count": 30,
      "metadata": {
        "id": "pc1SqlVHyoaS",
        "colab": {
          "base_uri": "https://localhost:8080/"
        },
        "outputId": "f0ed66bc-8941-4eb9-9aa7-853d739ad268"
      },
      "outputs": [
        {
          "output_type": "stream",
          "name": "stdout",
          "text": [
            "Train set (16796,)\n",
            "Test set (4200,)\n"
          ]
        }
      ],
      "source": [
        "print('Train set', X_train.shape)\n",
        "print('Test set', X_test.shape)"
      ]
    },
    {
      "cell_type": "code",
      "execution_count": 31,
      "metadata": {
        "id": "15X3aM6qgDm3",
        "colab": {
          "base_uri": "https://localhost:8080/"
        },
        "outputId": "c6f0d563-149f-4b8e-fdab-819dc772afb4"
      },
      "outputs": [
        {
          "output_type": "stream",
          "name": "stdout",
          "text": [
            "Drive already mounted at /content/gdrive; to attempt to forcibly remount, call drive.mount(\"/content/gdrive\", force_remount=True).\n"
          ]
        }
      ],
      "source": [
        "from google.colab import drive\n",
        "drive.mount('/content/gdrive')"
      ]
    },
    {
      "cell_type": "markdown",
      "metadata": {
        "id": "cI8tRb3Nz5aR"
      },
      "source": [
        "**Uploading the fsttext pretrained word embedding with 150 dimension**"
      ]
    },
    {
      "cell_type": "code",
      "execution_count": 32,
      "metadata": {
        "colab": {
          "base_uri": "https://localhost:8080/"
        },
        "id": "sJ3CP3XulykU",
        "outputId": "5826ec6a-368c-428f-a952-676695c1b104"
      },
      "outputs": [
        {
          "output_type": "stream",
          "name": "stdout",
          "text": [
            "CPU times: user 2min 24s, sys: 3.73 s, total: 2min 28s\n",
            "Wall time: 2min 33s\n"
          ]
        }
      ],
      "source": [
        "%%time\n",
        "target_word_vec = KeyedVectors.load_word2vec_format(\"/content/gdrive/MyDrive/thesis/cc.ar.150.vec\", binary = False)"
      ]
    },
    {
      "cell_type": "markdown",
      "metadata": {
        "id": "-pQIBI1c0OBw"
      },
      "source": [
        "**tokenization of the reviews**"
      ]
    },
    {
      "cell_type": "code",
      "execution_count": 33,
      "metadata": {
        "colab": {
          "base_uri": "https://localhost:8080/"
        },
        "id": "fXkSR3KGyoNv",
        "outputId": "76c87365-f1c0-4e05-ace7-0086782b671e"
      },
      "outputs": [
        {
          "output_type": "stream",
          "name": "stdout",
          "text": [
            "CPU times: user 489 ms, sys: 8.04 ms, total: 497 ms\n",
            "Wall time: 497 ms\n"
          ]
        }
      ],
      "source": [
        "%%time\n",
        "tokenizer = Tokenizer()\n",
        "tokenizer.fit_on_texts(X_train)"
      ]
    },
    {
      "cell_type": "code",
      "execution_count": 34,
      "metadata": {
        "id": "L7UW4cKKyoKw"
      },
      "outputs": [],
      "source": [
        "word_index = tokenizer.word_index\n",
        "vocab_size = len(tokenizer.word_index) + 1"
      ]
    },
    {
      "cell_type": "markdown",
      "metadata": {
        "id": "N8LmKYq60SX6"
      },
      "source": [
        "**making all reviews of the same length 70**"
      ]
    },
    {
      "cell_type": "code",
      "execution_count": 35,
      "metadata": {
        "colab": {
          "base_uri": "https://localhost:8080/"
        },
        "id": "FDcsR7lYxl0Z",
        "outputId": "8e3a74d3-9336-4970-f46d-62538f4dc011"
      },
      "outputs": [
        {
          "output_type": "stream",
          "name": "stdout",
          "text": [
            "Training X Shape: (16796, 70)\n",
            "Testing X Shape: (4200, 70)\n",
            "CPU times: user 914 ms, sys: 10 ms, total: 924 ms\n",
            "Wall time: 920 ms\n"
          ]
        }
      ],
      "source": [
        "%%time\n",
        "MAX_SEQUENCE_LENGTH = 70\n",
        "\n",
        "X_train = pad_sequences(tokenizer.texts_to_sequences(X_train),\n",
        "                        maxlen = MAX_SEQUENCE_LENGTH)\n",
        "X_test = pad_sequences(tokenizer.texts_to_sequences(X_test),\n",
        "                       maxlen = MAX_SEQUENCE_LENGTH)\n",
        "\n",
        "print(\"Training X Shape:\", X_train.shape)\n",
        "print(\"Testing X Shape:\", X_test.shape)"
      ]
    },
    {
      "cell_type": "markdown",
      "metadata": {
        "id": "DiIxpGhc0tkE"
      },
      "source": [
        "**Construction of the embedding matrix**"
      ]
    },
    {
      "cell_type": "code",
      "execution_count": 36,
      "metadata": {
        "colab": {
          "base_uri": "https://localhost:8080/"
        },
        "id": "owcBaGGn2JWz",
        "outputId": "c4197dc3-08df-4523-b6d1-5a3bd90e2733"
      },
      "outputs": [
        {
          "output_type": "stream",
          "name": "stdout",
          "text": [
            "CPU times: user 150 ms, sys: 25.1 ms, total: 176 ms\n",
            "Wall time: 178 ms\n"
          ]
        }
      ],
      "source": [
        "%%time\n",
        "embedding_matrix = np.zeros((vocab_size, 150))\n",
        "\n",
        "for word, i in word_index.items():\n",
        "    if word in target_word_vec :\n",
        "        embedding_vector = target_word_vec[word]\n",
        "        if embedding_vector is not None:\n",
        "            embedding_matrix[i] = embedding_vector"
      ]
    },
    {
      "cell_type": "code",
      "execution_count": 37,
      "metadata": {
        "colab": {
          "base_uri": "https://localhost:8080/"
        },
        "id": "Eqa9cn0_2JHa",
        "outputId": "d71424dc-3e60-4a4e-ac72-9d95f70d4655"
      },
      "outputs": [
        {
          "output_type": "execute_result",
          "data": {
            "text/plain": [
              "True"
            ]
          },
          "metadata": {},
          "execution_count": 37
        }
      ],
      "source": [
        "embedding_matrix.shape[0] == vocab_size"
      ]
    },
    {
      "cell_type": "markdown",
      "metadata": {
        "id": "LOqaUPgk054V"
      },
      "source": [
        "**Creating the model**"
      ]
    },
    {
      "cell_type": "code",
      "execution_count": 38,
      "metadata": {
        "colab": {
          "base_uri": "https://localhost:8080/"
        },
        "id": "m58bq44X2JDr",
        "outputId": "2cfbff07-282c-4cc0-a357-a55c79c07a0f"
      },
      "outputs": [
        {
          "output_type": "stream",
          "name": "stdout",
          "text": [
            "Model: \"sequential\"\n",
            "_________________________________________________________________\n",
            " Layer (type)                Output Shape              Param #   \n",
            "=================================================================\n",
            " embedding (Embedding)       (None, 70, 150)           7419000   \n",
            "                                                                 \n",
            " lstm (LSTM)                 (None, 100)               100400    \n",
            "                                                                 \n",
            " dropout (Dropout)           (None, 100)               0         \n",
            "                                                                 \n",
            " dense (Dense)               (None, 4)                 404       \n",
            "                                                                 \n",
            "=================================================================\n",
            "Total params: 7,519,804\n",
            "Trainable params: 100,804\n",
            "Non-trainable params: 7,419,000\n",
            "_________________________________________________________________\n",
            "None\n"
          ]
        }
      ],
      "source": [
        "model = Sequential()\n",
        "embedding_layer = Embedding(vocab_size, \n",
        "                            150, \n",
        "                            weights = [embedding_matrix], \n",
        "                            input_length = MAX_SEQUENCE_LENGTH,\n",
        "                            trainable=False)\n",
        "model.add(embedding_layer)\n",
        "model.add(LSTM(100))\n",
        "model.add(Dropout(0.2))\n",
        "model.add(Dense(4, activation='softmax'))\n",
        "model.compile(optimizer = Adam(learning_rate=0.001), \n",
        "              loss = 'categorical_crossentropy',\n",
        "              metrics = ['accuracy'])\n",
        "\n",
        "# es = EarlyStopping(monitor='val_loss', mode='min', verbose=1, patience=5)\n",
        "print(model.summary())"
      ]
    },
    {
      "cell_type": "markdown",
      "metadata": {
        "id": "t87TTNfP0_74"
      },
      "source": [
        "**fitting the model to the dataset**"
      ]
    },
    {
      "cell_type": "code",
      "execution_count": 39,
      "metadata": {
        "colab": {
          "base_uri": "https://localhost:8080/"
        },
        "id": "gAO_1wSM2I_l",
        "outputId": "f8e89f2e-338b-4bba-94a1-ca9f96139e0c"
      },
      "outputs": [
        {
          "output_type": "stream",
          "name": "stdout",
          "text": [
            "Epoch 1/20\n",
            "112/112 [==============================] - 8s 13ms/step - loss: 0.9851 - accuracy: 0.6077 - val_loss: 0.8406 - val_accuracy: 0.6774\n",
            "Epoch 2/20\n",
            "112/112 [==============================] - 1s 8ms/step - loss: 0.7962 - accuracy: 0.6991 - val_loss: 0.7718 - val_accuracy: 0.7020\n",
            "Epoch 3/20\n",
            "112/112 [==============================] - 1s 8ms/step - loss: 0.7554 - accuracy: 0.7159 - val_loss: 0.7536 - val_accuracy: 0.7095\n",
            "Epoch 4/20\n",
            "112/112 [==============================] - 1s 10ms/step - loss: 0.7371 - accuracy: 0.7232 - val_loss: 0.7347 - val_accuracy: 0.7139\n",
            "Epoch 5/20\n",
            "112/112 [==============================] - 1s 11ms/step - loss: 0.7223 - accuracy: 0.7270 - val_loss: 0.7425 - val_accuracy: 0.7115\n",
            "Epoch 6/20\n",
            "112/112 [==============================] - 1s 11ms/step - loss: 0.7077 - accuracy: 0.7357 - val_loss: 0.7265 - val_accuracy: 0.7147\n",
            "Epoch 7/20\n",
            "112/112 [==============================] - 1s 9ms/step - loss: 0.7017 - accuracy: 0.7381 - val_loss: 0.7216 - val_accuracy: 0.7214\n",
            "Epoch 8/20\n",
            "112/112 [==============================] - 1s 7ms/step - loss: 0.6888 - accuracy: 0.7408 - val_loss: 0.7241 - val_accuracy: 0.7159\n",
            "Epoch 9/20\n",
            "112/112 [==============================] - 1s 7ms/step - loss: 0.6859 - accuracy: 0.7418 - val_loss: 0.7170 - val_accuracy: 0.7238\n",
            "Epoch 10/20\n",
            "112/112 [==============================] - 1s 7ms/step - loss: 0.6802 - accuracy: 0.7455 - val_loss: 0.7261 - val_accuracy: 0.7107\n",
            "Epoch 11/20\n",
            "112/112 [==============================] - 1s 7ms/step - loss: 0.6738 - accuracy: 0.7461 - val_loss: 0.7127 - val_accuracy: 0.7250\n",
            "Epoch 12/20\n",
            "112/112 [==============================] - 1s 7ms/step - loss: 0.6671 - accuracy: 0.7485 - val_loss: 0.7108 - val_accuracy: 0.7175\n",
            "Epoch 13/20\n",
            "112/112 [==============================] - 1s 8ms/step - loss: 0.6547 - accuracy: 0.7557 - val_loss: 0.7306 - val_accuracy: 0.7218\n",
            "Epoch 14/20\n",
            "112/112 [==============================] - 1s 7ms/step - loss: 0.6514 - accuracy: 0.7550 - val_loss: 0.7105 - val_accuracy: 0.7226\n",
            "Epoch 15/20\n",
            "112/112 [==============================] - 1s 8ms/step - loss: 0.6443 - accuracy: 0.7589 - val_loss: 0.7084 - val_accuracy: 0.7274\n",
            "Epoch 16/20\n",
            "112/112 [==============================] - 1s 8ms/step - loss: 0.6368 - accuracy: 0.7578 - val_loss: 0.7113 - val_accuracy: 0.7206\n",
            "Epoch 17/20\n",
            "112/112 [==============================] - 1s 12ms/step - loss: 0.6306 - accuracy: 0.7616 - val_loss: 0.7217 - val_accuracy: 0.7206\n",
            "Epoch 18/20\n",
            "112/112 [==============================] - 1s 12ms/step - loss: 0.6247 - accuracy: 0.7647 - val_loss: 0.7130 - val_accuracy: 0.7218\n",
            "Epoch 19/20\n",
            "112/112 [==============================] - 1s 7ms/step - loss: 0.6162 - accuracy: 0.7642 - val_loss: 0.7159 - val_accuracy: 0.7226\n",
            "Epoch 20/20\n",
            "112/112 [==============================] - 1s 7ms/step - loss: 0.6096 - accuracy: 0.7670 - val_loss: 0.7158 - val_accuracy: 0.7306\n"
          ]
        }
      ],
      "source": [
        "history = model.fit(X_train, y_train, validation_split=0.15, batch_size = 128, epochs=20, verbose=1)"
      ]
    },
    {
      "cell_type": "markdown",
      "metadata": {
        "id": "M773tQ4P1PZt"
      },
      "source": [
        "**Evaluating the model**"
      ]
    },
    {
      "cell_type": "code",
      "execution_count": 40,
      "metadata": {
        "colab": {
          "base_uri": "https://localhost:8080/",
          "height": 295
        },
        "id": "GJxgoiWLhpL2",
        "outputId": "a7f6dc8c-6cc1-467a-e4fb-734960a5344c"
      },
      "outputs": [
        {
          "output_type": "display_data",
          "data": {
            "text/plain": [
              "<Figure size 432x288 with 1 Axes>"
            ],
            "image/png": "[encoded data removed]"
          },
          "metadata": {
            "needs_background": "light"
          }
        }
      ],
      "source": [
        "loss_train = history.history['loss']\n",
        "loss_val = history.history['val_loss']\n",
        "epochs = range(1,21)\n",
        "plt.plot(epochs, loss_train, 'g', label='Training loss')\n",
        "plt.plot(epochs, loss_val, 'b', label='validation loss')\n",
        "plt.title('Training and Validation loss')\n",
        "plt.xlabel('Epochs')\n",
        "plt.ylabel('Loss')\n",
        "plt.legend()\n",
        "plt.show()"
      ]
    },
    {
      "cell_type": "code",
      "execution_count": 41,
      "metadata": {
        "colab": {
          "base_uri": "https://localhost:8080/",
          "height": 295
        },
        "id": "rizk-Mc8ho-i",
        "outputId": "07ee11f5-388b-436c-fc6e-c12d34096485"
      },
      "outputs": [
        {
          "output_type": "display_data",
          "data": {
            "text/plain": [
              "<Figure size 432x288 with 1 Axes>"
            ],
            "image/png": "[encoded data removed]"
          },
          "metadata": {
            "needs_background": "light"
          }
        }
      ],
      "source": [
        "loss_train = history.history['accuracy']\n",
        "loss_val = history.history['val_accuracy']\n",
        "epochs = range(1,21)\n",
        "plt.plot(epochs, loss_train, 'g', label='Training accuracy')\n",
        "plt.plot(epochs, loss_val, 'b', label='validation accuracy')\n",
        "plt.title('Training and Validation accuracy')\n",
        "plt.xlabel('Epochs')\n",
        "plt.ylabel('Accuracy')\n",
        "plt.legend()\n",
        "plt.show()"
      ]
    },
    {
      "cell_type": "code",
      "execution_count": 42,
      "metadata": {
        "colab": {
          "base_uri": "https://localhost:8080/"
        },
        "id": "t9z560Wi2I6o",
        "outputId": "3c7eb0f4-bc68-4e29-89b7-df0e8fabf82a"
      },
      "outputs": [
        {
          "output_type": "stream",
          "name": "stdout",
          "text": [
            "132/132 [==============================] - 1s 5ms/step - loss: 0.7520 - accuracy: 0.7157\n",
            "accuracy: 71.57%\n"
          ]
        }
      ],
      "source": [
        "score = model.evaluate(X_test, y_test, verbose=1)\n",
        "print(\"%s: %.2f%%\" % (model.metrics_names[1], score[1]*100))"
      ]
    },
    {
      "cell_type": "code",
      "execution_count": 43,
      "metadata": {
        "id": "mKgiUmS329sV"
      },
      "outputs": [],
      "source": [
        "y_pred = model.predict(X_test)\n",
        "\n",
        "y_pred = (y_pred > 0.5) "
      ]
    },
    {
      "cell_type": "code",
      "execution_count": 44,
      "metadata": {
        "colab": {
          "base_uri": "https://localhost:8080/"
        },
        "id": "DhC7jTvN29Wd",
        "outputId": "c5305480-bd5d-4844-b49e-d98e249c17e6"
      },
      "outputs": [
        {
          "output_type": "stream",
          "name": "stdout",
          "text": [
            "              precision    recall  f1-score   support\n",
            "\n",
            "           0       0.75      0.74      0.74      1529\n",
            "           1       0.69      0.55      0.61       923\n",
            "           2       0.00      0.00      0.00       275\n",
            "           3       0.79      0.80      0.79      1473\n",
            "\n",
            "   micro avg       0.75      0.67      0.71      4200\n",
            "   macro avg       0.56      0.52      0.54      4200\n",
            "weighted avg       0.70      0.67      0.68      4200\n",
            " samples avg       0.67      0.67      0.67      4200\n",
            "\n"
          ]
        }
      ],
      "source": [
        "print(classification_report(y_test, y_pred))"
      ]
    },
    {
      "cell_type": "markdown",
      "metadata": {
        "id": "zm1S_eVC1YQH"
      },
      "source": [
        "**function for creating confusion matrix**"
      ]
    },
    {
      "cell_type": "code",
      "execution_count": 45,
      "metadata": {
        "id": "C9wpCE6K29RD"
      },
      "outputs": [],
      "source": [
        "def print_confusion_matrix(confusion_matrix, class_names, title='Confusion matrix', figsize = (6,6), fontsize=14):\n",
        "    df_cm = pd.DataFrame(\n",
        "        confusion_matrix, index=class_names, columns=class_names, \n",
        "    )\n",
        "    fig = plt.figure(figsize=figsize)\n",
        "    try:\n",
        "        heatmap = sns.heatmap(df_cm, annot=True, fmt=\"d\")\n",
        "    except ValueError:\n",
        "        raise ValueError(\"Confusion matrix values must be integers.\")\n",
        "    heatmap.yaxis.set_ticklabels(heatmap.yaxis.get_ticklabels(), rotation=0, ha='right', fontsize=fontsize)\n",
        "    heatmap.xaxis.set_ticklabels(heatmap.xaxis.get_ticklabels(), rotation=45, ha='right', fontsize=fontsize)\n",
        "    plt.ylabel('True label')\n",
        "    plt.xlabel('Predicted label')\n",
        "    plt.title(title, fontsize=20)\n",
        "    \n",
        "    return fig"
      ]
    },
    {
      "cell_type": "markdown",
      "metadata": {
        "id": "WRT8-dl56eeJ"
      },
      "source": [
        "**printing the confusion matrix**"
      ]
    },
    {
      "cell_type": "code",
      "execution_count": 46,
      "metadata": {
        "colab": {
          "base_uri": "https://localhost:8080/",
          "height": 415
        },
        "id": "wPe6GcS93STT",
        "outputId": "768a2d9b-7dbf-45b5-9018-4fa7f71f0075"
      },
      "outputs": [
        {
          "output_type": "display_data",
          "data": {
            "text/plain": [
              "<Figure size 432x432 with 2 Axes>"
            ],
            "image/png": "[encoded data removed]"
          },
          "metadata": {
            "needs_background": "light"
          }
        }
      ],
      "source": [
        "from sklearn.metrics import multilabel_confusion_matrix\n",
        "\n",
        "cnf_matrix = multilabel_confusion_matrix(y_test, y_pred).reshape(4*1, -1)\n",
        "classes = [str(x) for x in list(y_test.columns.values.tolist())]\n",
        "\n",
        "print_confusion_matrix(cnf_matrix, classes);"
      ]
    }
  ],
  "metadata": {
    "accelerator": "GPU",
    "colab": {
      "collapsed_sections": [],
      "name": " Sentiment Analysis - LSTM(Using Arsas Dataset) -.ipynb",
      "provenance": []
    },
    "kernelspec": {
      "display_name": "Python 3",
      "name": "python3"
    },
    "language_info": {
      "name": "python"
    }
  },
  "nbformat": 4,
  "nbformat_minor": 0
}