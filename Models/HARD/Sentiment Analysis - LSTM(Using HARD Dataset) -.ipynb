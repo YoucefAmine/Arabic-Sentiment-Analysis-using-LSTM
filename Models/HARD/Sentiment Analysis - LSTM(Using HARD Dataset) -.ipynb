{
  "cells": [
    {
      "cell_type": "markdown",
      "metadata": {
        "id": "En5KcfQ977aF"
      },
      "source": [
        "**Importing the libraries needed** "
      ]
    },
    {
      "cell_type": "code",
      "execution_count": 1,
      "metadata": {
        "id": "UedihKbFaGRw"
      },
      "outputs": [],
      "source": [
        "import numpy as np\n",
        "import pandas as pd\n",
        "import time\n",
        "\n",
        "\n",
        "import matplotlib.pyplot as plt\n",
        "import seaborn as sns\n",
        "\n",
        "import re\n",
        "import string\n",
        "\n",
        "from sklearn.model_selection import train_test_split\n",
        "from sklearn.metrics import confusion_matrix, classification_report, accuracy_score\n",
        "\n",
        "import gensim\n",
        "from gensim.models import KeyedVectors\n",
        "\n",
        "from keras.preprocessing.text import Tokenizer\n",
        "from keras.preprocessing.sequence import pad_sequences\n",
        "\n",
        "import tensorflow as tf\n",
        "from keras.models import Sequential\n",
        "from tensorflow.keras.layers import SpatialDropout1D, Conv1D, Bidirectional, LSTM, Dense, Input, Dropout, GlobalMaxPooling1D\n",
        "from keras.layers.embeddings import Embedding\n",
        "from tensorflow.keras.callbacks import ModelCheckpoint, ReduceLROnPlateau, EarlyStopping\n",
        "from tensorflow.keras.optimizers import Adam\n",
        "\n",
        "import itertools\n",
        "from numpy import loadtxt\n",
        "from keras.models import load_model\n",
        "\n",
        "import warnings\n",
        "warnings.filterwarnings(\"ignore\")"
      ]
    },
    {
      "cell_type": "markdown",
      "metadata": {
        "id": "xHYYJY5Eprjm"
      },
      "source": [
        "**Connecting to google drive**"
      ]
    },
    {
      "cell_type": "code",
      "execution_count": 2,
      "metadata": {
        "colab": {
          "base_uri": "https://localhost:8080/"
        },
        "id": "naII_z2LacpB",
        "outputId": "72efb79e-63ec-4679-eef6-d9d9da5e6853"
      },
      "outputs": [
        {
          "output_type": "stream",
          "name": "stdout",
          "text": [
            "Mounted at /content/gdrive\n"
          ]
        }
      ],
      "source": [
        "from google.colab import drive\n",
        "drive.mount(\"/content/gdrive\")"
      ]
    },
    {
      "cell_type": "markdown",
      "metadata": {
        "id": "BADzPl6RpzKe"
      },
      "source": [
        " \n",
        "**Uploading the dataset**"
      ]
    },
    {
      "cell_type": "code",
      "execution_count": 3,
      "metadata": {
        "id": "dXhCSDNvbkkU"
      },
      "outputs": [],
      "source": [
        "path_data = \"/content/gdrive/MyDrive/thesis/HARD.xlsx\"\n",
        "\n",
        "HARD = pd.read_excel(path_data)"
      ]
    },
    {
      "cell_type": "code",
      "execution_count": 4,
      "metadata": {
        "id": "DKkvAv13el-g"
      },
      "outputs": [],
      "source": [
        "data = HARD"
      ]
    },
    {
      "cell_type": "markdown",
      "metadata": {
        "id": "bJQzPQ_gp_O4"
      },
      "source": [
        "**printing the first 3 rows of the data**"
      ]
    },
    {
      "cell_type": "code",
      "execution_count": 5,
      "metadata": {
        "colab": {
          "base_uri": "https://localhost:8080/",
          "height": 143
        },
        "id": "q7feEPcNf3r5",
        "outputId": "9dab2e6d-714d-426e-a5b2-5dc78a809acf"
      },
      "outputs": [
        {
          "output_type": "execute_result",
          "data": {
            "text/plain": [
              "   no Hotel name  rating    user type                   room type  \\\n",
              "0   2    فندق 72       2  مسافر منفرد  غرفة ديلوكس مزدوجة أو توأم   \n",
              "1   3    فندق 72       5          زوج  غرفة ديلوكس مزدوجة أو توأم   \n",
              "2  16    فندق 72       5          زوج                           -   \n",
              "\n",
              "            nights                                             review  \n",
              "0  أقمت ليلة واحدة                  “ممتاز”. النظافة والطاقم متعاون.   \n",
              "1  أقمت ليلة واحدة  استثنائي. سهولة إنهاء المعاملة في الاستقبال. ل...  \n",
              "2      أقمت ليلتين  استثنائي. انصح بأختيار الاسويت و بالاخص غرفه ر...  "
            ],
            "text/html": [
              "\n",
              "  <div id=\"df-cf8cc342-abce-469b-a377-c1bfa7e77316\">\n",
              "    <div class=\"colab-df-container\">\n",
              "      <div>\n",
              "<style scoped>\n",
              "    .dataframe tbody tr th:only-of-type {\n",
              "        vertical-align: middle;\n",
              "    }\n",
              "\n",
              "    .dataframe tbody tr th {\n",
              "        vertical-align: top;\n",
              "    }\n",
              "\n",
              "    .dataframe thead th {\n",
              "        text-align: right;\n",
              "    }\n",
              "</style>\n",
              "<table border=\"1\" class=\"dataframe\">\n",
              "  <thead>\n",
              "    <tr style=\"text-align: right;\">\n",
              "      <th></th>\n",
              "      <th>no</th>\n",
              "      <th>Hotel name</th>\n",
              "      <th>rating</th>\n",
              "      <th>user type</th>\n",
              "      <th>room type</th>\n",
              "      <th>nights</th>\n",
              "      <th>review</th>\n",
              "    </tr>\n",
              "  </thead>\n",
              "  <tbody>\n",
              "    <tr>\n",
              "      <th>0</th>\n",
              "      <td>2</td>\n",
              "      <td>فندق 72</td>\n",
              "      <td>2</td>\n",
              "      <td>مسافر منفرد</td>\n",
              "      <td>غرفة ديلوكس مزدوجة أو توأم</td>\n",
              "      <td>أقمت ليلة واحدة</td>\n",
              "      <td>“ممتاز”. النظافة والطاقم متعاون.</td>\n",
              "    </tr>\n",
              "    <tr>\n",
              "      <th>1</th>\n",
              "      <td>3</td>\n",
              "      <td>فندق 72</td>\n",
              "      <td>5</td>\n",
              "      <td>زوج</td>\n",
              "      <td>غرفة ديلوكس مزدوجة أو توأم</td>\n",
              "      <td>أقمت ليلة واحدة</td>\n",
              "      <td>استثنائي. سهولة إنهاء المعاملة في الاستقبال. ل...</td>\n",
              "    </tr>\n",
              "    <tr>\n",
              "      <th>2</th>\n",
              "      <td>16</td>\n",
              "      <td>فندق 72</td>\n",
              "      <td>5</td>\n",
              "      <td>زوج</td>\n",
              "      <td>-</td>\n",
              "      <td>أقمت ليلتين</td>\n",
              "      <td>استثنائي. انصح بأختيار الاسويت و بالاخص غرفه ر...</td>\n",
              "    </tr>\n",
              "  </tbody>\n",
              "</table>\n",
              "</div>\n",
              "      <button class=\"colab-df-convert\" onclick=\"convertToInteractive('df-cf8cc342-abce-469b-a377-c1bfa7e77316')\"\n",
              "              title=\"Convert this dataframe to an interactive table.\"\n",
              "              style=\"display:none;\">\n",
              "        \n",
              "  <svg xmlns=\"http://www.w3.org/2000/svg\" height=\"24px\"viewBox=\"0 0 24 24\"\n",
              "       width=\"24px\">\n",
              "    <path d=\"M0 0h24v24H0V0z\" fill=\"none\"/>\n",
              "    <path d=\"M18.56 5.44l.94 2.06.94-2.06 2.06-.94-2.06-.94-.94-2.06-.94 2.06-2.06.94zm-11 1L8.5 8.5l.94-2.06 2.06-.94-2.06-.94L8.5 2.5l-.94 2.06-2.06.94zm10 10l.94 2.06.94-2.06 2.06-.94-2.06-.94-.94-2.06-.94 2.06-2.06.94z\"/><path d=\"M17.41 7.96l-1.37-1.37c-.4-.4-.92-.59-1.43-.59-.52 0-1.04.2-1.43.59L10.3 9.45l-7.72 7.72c-.78.78-.78 2.05 0 2.83L4 21.41c.39.39.9.59 1.41.59.51 0 1.02-.2 1.41-.59l7.78-7.78 2.81-2.81c.8-.78.8-2.07 0-2.86zM5.41 20L4 18.59l7.72-7.72 1.47 1.35L5.41 20z\"/>\n",
              "  </svg>\n",
              "      </button>\n",
              "      \n",
              "  <style>\n",
              "    .colab-df-container {\n",
              "      display:flex;\n",
              "      flex-wrap:wrap;\n",
              "      gap: 12px;\n",
              "    }\n",
              "\n",
              "    .colab-df-convert {\n",
              "      background-color: #E8F0FE;\n",
              "      border: none;\n",
              "      border-radius: 50%;\n",
              "      cursor: pointer;\n",
              "      display: none;\n",
              "      fill: #1967D2;\n",
              "      height: 32px;\n",
              "      padding: 0 0 0 0;\n",
              "      width: 32px;\n",
              "    }\n",
              "\n",
              "    .colab-df-convert:hover {\n",
              "      background-color: #E2EBFA;\n",
              "      box-shadow: 0px 1px 2px rgba(60, 64, 67, 0.3), 0px 1px 3px 1px rgba(60, 64, 67, 0.15);\n",
              "      fill: #174EA6;\n",
              "    }\n",
              "\n",
              "    [theme=dark] .colab-df-convert {\n",
              "      background-color: #3B4455;\n",
              "      fill: #D2E3FC;\n",
              "    }\n",
              "\n",
              "    [theme=dark] .colab-df-convert:hover {\n",
              "      background-color: #434B5C;\n",
              "      box-shadow: 0px 1px 3px 1px rgba(0, 0, 0, 0.15);\n",
              "      filter: drop-shadow(0px 1px 2px rgba(0, 0, 0, 0.3));\n",
              "      fill: #FFFFFF;\n",
              "    }\n",
              "  </style>\n",
              "\n",
              "      <script>\n",
              "        const buttonEl =\n",
              "          document.querySelector('#df-cf8cc342-abce-469b-a377-c1bfa7e77316 button.colab-df-convert');\n",
              "        buttonEl.style.display =\n",
              "          google.colab.kernel.accessAllowed ? 'block' : 'none';\n",
              "\n",
              "        async function convertToInteractive(key) {\n",
              "          const element = document.querySelector('#df-cf8cc342-abce-469b-a377-c1bfa7e77316');\n",
              "          const dataTable =\n",
              "            await google.colab.kernel.invokeFunction('convertToInteractive',\n",
              "                                                     [key], {});\n",
              "          if (!dataTable) return;\n",
              "\n",
              "          const docLinkHtml = 'Like what you see? Visit the ' +\n",
              "            '<a target=\"_blank\" href=https://colab.research.google.com/notebooks/data_table.ipynb>data table notebook</a>'\n",
              "            + ' to learn more about interactive tables.';\n",
              "          element.innerHTML = '';\n",
              "          dataTable['output_type'] = 'display_data';\n",
              "          await google.colab.output.renderOutput(dataTable, element);\n",
              "          const docLink = document.createElement('div');\n",
              "          docLink.innerHTML = docLinkHtml;\n",
              "          element.appendChild(docLink);\n",
              "        }\n",
              "      </script>\n",
              "    </div>\n",
              "  </div>\n",
              "  "
            ]
          },
          "metadata": {},
          "execution_count": 5
        }
      ],
      "source": [
        "data.head(3)"
      ]
    },
    {
      "cell_type": "markdown",
      "metadata": {
        "id": "VwXDd4oUqKZL"
      },
      "source": [
        "**printing the shape of the dataset nbr of row and columns**"
      ]
    },
    {
      "cell_type": "code",
      "execution_count": 6,
      "metadata": {
        "colab": {
          "base_uri": "https://localhost:8080/"
        },
        "id": "MB8JS7NNtQpf",
        "outputId": "56a682cb-802d-4199-cda9-20fc7e871878"
      },
      "outputs": [
        {
          "output_type": "stream",
          "name": "stdout",
          "text": [
            "Data contient 105698 lignes et 7 colonnes.\n"
          ]
        }
      ],
      "source": [
        "print(\"Data contient {} lignes et {} colonnes.\".format(data.shape[0], data.shape[1]))"
      ]
    },
    {
      "cell_type": "markdown",
      "metadata": {
        "id": "HU9GqLArqYls"
      },
      "source": [
        " **printing the fiels with missed values**\n",
        "\n"
      ]
    },
    {
      "cell_type": "code",
      "execution_count": 7,
      "metadata": {
        "colab": {
          "base_uri": "https://localhost:8080/"
        },
        "id": "-ZY0H2oYtaBA",
        "outputId": "354a1507-66f5-4d14-cf75-36a8d9a5be66"
      },
      "outputs": [
        {
          "output_type": "execute_result",
          "data": {
            "text/plain": [
              "no            0\n",
              "Hotel name    0\n",
              "rating        0\n",
              "user type     0\n",
              "room type     0\n",
              "nights        0\n",
              "review        0\n",
              "dtype: int64"
            ]
          },
          "metadata": {},
          "execution_count": 7
        }
      ],
      "source": [
        "data.isnull().sum()"
      ]
    },
    {
      "cell_type": "markdown",
      "metadata": {
        "id": "xzjbolY5qyrw"
      },
      "source": [
        "**printing the number of the duplicated rows**"
      ]
    },
    {
      "cell_type": "code",
      "execution_count": 8,
      "metadata": {
        "colab": {
          "base_uri": "https://localhost:8080/"
        },
        "id": "pLckLWmUxZMM",
        "outputId": "807b654a-7855-47a4-ba1e-9693971b2be9"
      },
      "outputs": [
        {
          "output_type": "stream",
          "name": "stdout",
          "text": [
            "On a  0 doublons dans Data.\n"
          ]
        }
      ],
      "source": [
        "print(\"On a  {} doublons dans Data.\".format(data.duplicated().sum()))"
      ]
    },
    {
      "cell_type": "markdown",
      "metadata": {
        "id": "N9MMOuUlrAAm"
      },
      "source": [
        "**checking the types of the fiels in the data**"
      ]
    },
    {
      "cell_type": "code",
      "execution_count": 9,
      "metadata": {
        "colab": {
          "base_uri": "https://localhost:8080/"
        },
        "id": "JKvnEbNDuMXH",
        "outputId": "9b56d5b2-37a5-43ec-c4ea-b9cda91f9bc2"
      },
      "outputs": [
        {
          "output_type": "execute_result",
          "data": {
            "text/plain": [
              "no             int64\n",
              "Hotel name    object\n",
              "rating         int64\n",
              "user type     object\n",
              "room type     object\n",
              "nights        object\n",
              "review        object\n",
              "dtype: object"
            ]
          },
          "metadata": {},
          "execution_count": 9
        }
      ],
      "source": [
        "data.dtypes"
      ]
    },
    {
      "cell_type": "markdown",
      "metadata": {
        "id": "8v0AK1OUrQGz"
      },
      "source": [
        "**function for printing the pie**"
      ]
    },
    {
      "cell_type": "code",
      "execution_count": 10,
      "metadata": {
        "id": "NKsJG1v6xmwu"
      },
      "outputs": [],
      "source": [
        "def pie(data,col):\n",
        "    labels = data[col].value_counts().keys().tolist()\n",
        "    n = len(labels)\n",
        "    if n==2:\n",
        "        colors = ['#66b3ff', '#fb3999']\n",
        "    elif n==3:\n",
        "        colors = ['#66b3ff', '#fb3999', '#ffcc99']\n",
        "    elif n==4:\n",
        "        colors = ['#66b3ff', '#fb3999', '#ffcc99',\"#66f3ff\"]\n",
        "    elif n==5:\n",
        "        colors = ['#66b3ff', '#fb3999', '#ffcc99',\"#66f3ff\",'#adcc99']\n",
        "    elif n==6:\n",
        "        colors = ['#66b3ff', '#fb3999', '#ffcc99',\"#66f3ff\",'#adcc99',\"#db7f23\"]\n",
        "    \n",
        "    fig1, f1 = plt.subplots()\n",
        "    f1.pie(data[col].value_counts(), labels=labels, colors = colors, autopct='%1.1f%%',shadow=False, startangle=60) \n",
        "    f1.axis('equal')\n",
        "    plt.tight_layout()\n",
        "    plt.show()\n",
        "    \n",
        "def histo(data,col):\n",
        "    plt.figure(figsize = (10, 8))\n",
        "    sns.histplot(data=data, x=col, hue = data[col], fill=True)"
      ]
    },
    {
      "cell_type": "markdown",
      "metadata": {
        "id": "jsHaFYHdrrEr"
      },
      "source": [
        "**Counting the % of each classe**"
      ]
    },
    {
      "cell_type": "code",
      "execution_count": 11,
      "metadata": {
        "colab": {
          "base_uri": "https://localhost:8080/"
        },
        "id": "tp-nT2EBxmg5",
        "outputId": "d9130273-8eaa-493f-c3bf-2bb396ab2b55"
      },
      "outputs": [
        {
          "output_type": "execute_result",
          "data": {
            "text/plain": [
              "2    0.363933\n",
              "4    0.250241\n",
              "5    0.249759\n",
              "1    0.136067\n",
              "Name: rating, dtype: float64"
            ]
          },
          "metadata": {},
          "execution_count": 11
        }
      ],
      "source": [
        "data.rating.value_counts(normalize = True)"
      ]
    },
    {
      "cell_type": "markdown",
      "metadata": {
        "id": "KGUDWDHGsLtZ"
      },
      "source": [
        "**Printing the distribution of the classes**"
      ]
    },
    {
      "cell_type": "code",
      "execution_count": 12,
      "metadata": {
        "colab": {
          "base_uri": "https://localhost:8080/",
          "height": 297
        },
        "id": "MXfBwk6-xmZD",
        "outputId": "b9feb2a6-68e0-4dae-baa3-ee439a172ca2"
      },
      "outputs": [
        {
          "output_type": "display_data",
          "data": {
            "text/plain": [
              "<Figure size 432x288 with 1 Axes>"
            ],
            "image/png": "[encoded data removed]"
          },
          "metadata": {}
        }
      ],
      "source": [
        "pie(data, \"rating\")"
      ]
    },
    {
      "cell_type": "markdown",
      "metadata": {
        "id": "sD2cvglIsYID"
      },
      "source": [
        "**Repartitionning the data to 2 classes**"
      ]
    },
    {
      "cell_type": "code",
      "execution_count": 13,
      "metadata": {
        "id": "TjOxe2PsxmBA"
      },
      "outputs": [],
      "source": [
        "positive_reviews = data[data[\"rating\"] > 3]\n",
        "positive_reviews[\"sentiment\"] = 1\n",
        "\n",
        "negative_reviews = data[data[\"rating\"] < 3]\n",
        "negative_reviews[\"sentiment\"] = 0\n",
        "\n",
        "data = pd.concat([positive_reviews, negative_reviews], ignore_index = True)"
      ]
    },
    {
      "cell_type": "markdown",
      "metadata": {
        "id": "MnnT6CsCs0xY"
      },
      "source": [
        " **printing the number of rows in both classes**"
      ]
    },
    {
      "cell_type": "code",
      "execution_count": 14,
      "metadata": {
        "colab": {
          "base_uri": "https://localhost:8080/"
        },
        "id": "ISL6bmS9xl9g",
        "outputId": "bf8c2df3-991e-48a0-83f9-bc54d331487a"
      },
      "outputs": [
        {
          "output_type": "stream",
          "name": "stdout",
          "text": [
            "data contient 105698 lignes.\n",
            "Positive_reviews contient 52849 lignes.\n",
            "Negative_reviews contient 52849 lignes.\n"
          ]
        }
      ],
      "source": [
        "print(\"data contient {} lignes.\".format(data.shape[0]))\n",
        "\n",
        "print(\"Positive_reviews contient {} lignes.\".format(positive_reviews.shape[0]))\n",
        "\n",
        "print(\"Negative_reviews contient {} lignes.\".format(negative_reviews.shape[0]))"
      ]
    },
    {
      "cell_type": "markdown",
      "metadata": {
        "id": "sfD_QN9CtCkF"
      },
      "source": [
        "**printing the new distribution of the data**"
      ]
    },
    {
      "cell_type": "code",
      "execution_count": 15,
      "metadata": {
        "colab": {
          "base_uri": "https://localhost:8080/",
          "height": 297
        },
        "id": "Qxc3A0_DyACU",
        "outputId": "ecb0da74-34fb-4960-db25-cd91730b49ff"
      },
      "outputs": [
        {
          "output_type": "display_data",
          "data": {
            "text/plain": [
              "<Figure size 432x288 with 1 Axes>"
            ],
            "image/png": "[encoded data removed]"
          },
          "metadata": {}
        }
      ],
      "source": [
        "pie(data,\"sentiment\")"
      ]
    },
    {
      "cell_type": "markdown",
      "metadata": {
        "id": "2EV8czwetXVv"
      },
      "source": [
        "**printing the new distribution in histogramme**"
      ]
    },
    {
      "cell_type": "code",
      "execution_count": 16,
      "metadata": {
        "colab": {
          "base_uri": "https://localhost:8080/",
          "height": 497
        },
        "id": "OrFZzbW4x_-6",
        "outputId": "9dd1bdf1-90f8-45e0-d8be-e3c157c7af25"
      },
      "outputs": [
        {
          "output_type": "display_data",
          "data": {
            "text/plain": [
              "<Figure size 720x576 with 1 Axes>"
            ],
            "image/png": "[encoded data removed]"
          },
          "metadata": {
            "needs_background": "light"
          }
        }
      ],
      "source": [
        "histo(data,\"sentiment\")"
      ]
    },
    {
      "cell_type": "markdown",
      "metadata": {
        "id": "aQPXSoQQtxC-"
      },
      "source": [
        "**function to count the length of reviews**\n",
        "\n"
      ]
    },
    {
      "cell_type": "code",
      "execution_count": 17,
      "metadata": {
        "id": "HdnqI69vx_7F"
      },
      "outputs": [],
      "source": [
        "def compte_mots(phrase):\n",
        "    return len(phrase.split())\n",
        "\n",
        "data[\"len_review\"] = data[\"review\"].apply(compte_mots)\n",
        "positive_reviews['len_review'] = positive_reviews[\"review\"].apply(compte_mots)\n",
        "negative_reviews['len_review'] = negative_reviews[\"review\"].apply(compte_mots)"
      ]
    },
    {
      "cell_type": "markdown",
      "metadata": {
        "id": "s0gPiiV7uE5T"
      },
      "source": [
        "**printing the max  length of the positive and negative reviews**"
      ]
    },
    {
      "cell_type": "code",
      "execution_count": 18,
      "metadata": {
        "colab": {
          "base_uri": "https://localhost:8080/"
        },
        "id": "RUOg19_jx_28",
        "outputId": "dd52bc30-0440-4959-bf1a-48ea90d47dcc"
      },
      "outputs": [
        {
          "output_type": "stream",
          "name": "stdout",
          "text": [
            "Le maximum de mots utilisé dans les reviews positives est : 570\n",
            "Le moyen de mots utilisé dans les reviews positives est : 19.829703494862724\n",
            "-------------------------------------------------------------------------------------------------------\n",
            "Le maximum de mots utilisé dans les reviews négatives est : 614\n",
            "Le moyen de mots utilisé dans les reviews négatives est : 28.094722700524134\n"
          ]
        }
      ],
      "source": [
        "print(\"Le maximum de mots utilisé dans les reviews positives est :\", max(positive_reviews.len_review))\n",
        "print(\"Le moyen de mots utilisé dans les reviews positives est :\", np.mean(positive_reviews.len_review))\n",
        "print(\"-------------------------------------------------------------------------------------------------------\")\n",
        "print(\"Le maximum de mots utilisé dans les reviews négatives est :\", max(negative_reviews.len_review))\n",
        "print(\"Le moyen de mots utilisé dans les reviews négatives est :\", np.mean(negative_reviews.len_review))"
      ]
    },
    {
      "cell_type": "code",
      "execution_count": 19,
      "metadata": {
        "colab": {
          "base_uri": "https://localhost:8080/",
          "height": 569
        },
        "id": "zoWA0F5Ox_yo",
        "outputId": "a0aab311-4baa-4f25-f67b-3de785533bd7"
      },
      "outputs": [
        {
          "output_type": "execute_result",
          "data": {
            "text/plain": [
              "(0.0, 200.0)"
            ]
          },
          "metadata": {},
          "execution_count": 19
        },
        {
          "output_type": "display_data",
          "data": {
            "text/plain": [
              "<Figure size 720x648 with 1 Axes>"
            ],
            "image/png": "[encoded data removed]"
          },
          "metadata": {
            "needs_background": "light"
          }
        }
      ],
      "source": [
        "plt.figure(figsize=(10,9))\n",
        "\n",
        "p1=sns.kdeplot(positive_reviews['len_review'], hue = data['sentiment'],  shade=True, color=\"r\")\n",
        "p1=sns.kdeplot(negative_reviews['len_review'], shade=True, color=\"b\")\n",
        "\n",
        "plt.xlim(0, 200)"
      ]
    },
    {
      "cell_type": "markdown",
      "metadata": {
        "id": "JizLU3m4vwvB"
      },
      "source": [
        "**Deleting unused fields**"
      ]
    },
    {
      "cell_type": "code",
      "execution_count": 20,
      "metadata": {
        "colab": {
          "base_uri": "https://localhost:8080/",
          "height": 143
        },
        "id": "3sSAEvcKx_vr",
        "outputId": "6497986a-edb7-4a0e-c5e0-43c39f6832ab"
      },
      "outputs": [
        {
          "output_type": "execute_result",
          "data": {
            "text/plain": [
              "                                              review  sentiment  len_review\n",
              "0  استثنائي. سهولة إنهاء المعاملة في الاستقبال. ل...          1           7\n",
              "1  استثنائي. انصح بأختيار الاسويت و بالاخص غرفه ر...          1          11\n",
              "2  جيد. المكان جميل وهاديء. كل شي جيد ونظيف بس كا...          1          23"
            ],
            "text/html": [
              "\n",
              "  <div id=\"df-08172a50-42a2-43ea-b728-d3c97143b19c\">\n",
              "    <div class=\"colab-df-container\">\n",
              "      <div>\n",
              "<style scoped>\n",
              "    .dataframe tbody tr th:only-of-type {\n",
              "        vertical-align: middle;\n",
              "    }\n",
              "\n",
              "    .dataframe tbody tr th {\n",
              "        vertical-align: top;\n",
              "    }\n",
              "\n",
              "    .dataframe thead th {\n",
              "        text-align: right;\n",
              "    }\n",
              "</style>\n",
              "<table border=\"1\" class=\"dataframe\">\n",
              "  <thead>\n",
              "    <tr style=\"text-align: right;\">\n",
              "      <th></th>\n",
              "      <th>review</th>\n",
              "      <th>sentiment</th>\n",
              "      <th>len_review</th>\n",
              "    </tr>\n",
              "  </thead>\n",
              "  <tbody>\n",
              "    <tr>\n",
              "      <th>0</th>\n",
              "      <td>استثنائي. سهولة إنهاء المعاملة في الاستقبال. ل...</td>\n",
              "      <td>1</td>\n",
              "      <td>7</td>\n",
              "    </tr>\n",
              "    <tr>\n",
              "      <th>1</th>\n",
              "      <td>استثنائي. انصح بأختيار الاسويت و بالاخص غرفه ر...</td>\n",
              "      <td>1</td>\n",
              "      <td>11</td>\n",
              "    </tr>\n",
              "    <tr>\n",
              "      <th>2</th>\n",
              "      <td>جيد. المكان جميل وهاديء. كل شي جيد ونظيف بس كا...</td>\n",
              "      <td>1</td>\n",
              "      <td>23</td>\n",
              "    </tr>\n",
              "  </tbody>\n",
              "</table>\n",
              "</div>\n",
              "      <button class=\"colab-df-convert\" onclick=\"convertToInteractive('df-08172a50-42a2-43ea-b728-d3c97143b19c')\"\n",
              "              title=\"Convert this dataframe to an interactive table.\"\n",
              "              style=\"display:none;\">\n",
              "        \n",
              "  <svg xmlns=\"http://www.w3.org/2000/svg\" height=\"24px\"viewBox=\"0 0 24 24\"\n",
              "       width=\"24px\">\n",
              "    <path d=\"M0 0h24v24H0V0z\" fill=\"none\"/>\n",
              "    <path d=\"M18.56 5.44l.94 2.06.94-2.06 2.06-.94-2.06-.94-.94-2.06-.94 2.06-2.06.94zm-11 1L8.5 8.5l.94-2.06 2.06-.94-2.06-.94L8.5 2.5l-.94 2.06-2.06.94zm10 10l.94 2.06.94-2.06 2.06-.94-2.06-.94-.94-2.06-.94 2.06-2.06.94z\"/><path d=\"M17.41 7.96l-1.37-1.37c-.4-.4-.92-.59-1.43-.59-.52 0-1.04.2-1.43.59L10.3 9.45l-7.72 7.72c-.78.78-.78 2.05 0 2.83L4 21.41c.39.39.9.59 1.41.59.51 0 1.02-.2 1.41-.59l7.78-7.78 2.81-2.81c.8-.78.8-2.07 0-2.86zM5.41 20L4 18.59l7.72-7.72 1.47 1.35L5.41 20z\"/>\n",
              "  </svg>\n",
              "      </button>\n",
              "      \n",
              "  <style>\n",
              "    .colab-df-container {\n",
              "      display:flex;\n",
              "      flex-wrap:wrap;\n",
              "      gap: 12px;\n",
              "    }\n",
              "\n",
              "    .colab-df-convert {\n",
              "      background-color: #E8F0FE;\n",
              "      border: none;\n",
              "      border-radius: 50%;\n",
              "      cursor: pointer;\n",
              "      display: none;\n",
              "      fill: #1967D2;\n",
              "      height: 32px;\n",
              "      padding: 0 0 0 0;\n",
              "      width: 32px;\n",
              "    }\n",
              "\n",
              "    .colab-df-convert:hover {\n",
              "      background-color: #E2EBFA;\n",
              "      box-shadow: 0px 1px 2px rgba(60, 64, 67, 0.3), 0px 1px 3px 1px rgba(60, 64, 67, 0.15);\n",
              "      fill: #174EA6;\n",
              "    }\n",
              "\n",
              "    [theme=dark] .colab-df-convert {\n",
              "      background-color: #3B4455;\n",
              "      fill: #D2E3FC;\n",
              "    }\n",
              "\n",
              "    [theme=dark] .colab-df-convert:hover {\n",
              "      background-color: #434B5C;\n",
              "      box-shadow: 0px 1px 3px 1px rgba(0, 0, 0, 0.15);\n",
              "      filter: drop-shadow(0px 1px 2px rgba(0, 0, 0, 0.3));\n",
              "      fill: #FFFFFF;\n",
              "    }\n",
              "  </style>\n",
              "\n",
              "      <script>\n",
              "        const buttonEl =\n",
              "          document.querySelector('#df-08172a50-42a2-43ea-b728-d3c97143b19c button.colab-df-convert');\n",
              "        buttonEl.style.display =\n",
              "          google.colab.kernel.accessAllowed ? 'block' : 'none';\n",
              "\n",
              "        async function convertToInteractive(key) {\n",
              "          const element = document.querySelector('#df-08172a50-42a2-43ea-b728-d3c97143b19c');\n",
              "          const dataTable =\n",
              "            await google.colab.kernel.invokeFunction('convertToInteractive',\n",
              "                                                     [key], {});\n",
              "          if (!dataTable) return;\n",
              "\n",
              "          const docLinkHtml = 'Like what you see? Visit the ' +\n",
              "            '<a target=\"_blank\" href=https://colab.research.google.com/notebooks/data_table.ipynb>data table notebook</a>'\n",
              "            + ' to learn more about interactive tables.';\n",
              "          element.innerHTML = '';\n",
              "          dataTable['output_type'] = 'display_data';\n",
              "          await google.colab.output.renderOutput(dataTable, element);\n",
              "          const docLink = document.createElement('div');\n",
              "          docLink.innerHTML = docLinkHtml;\n",
              "          element.appendChild(docLink);\n",
              "        }\n",
              "      </script>\n",
              "    </div>\n",
              "  </div>\n",
              "  "
            ]
          },
          "metadata": {},
          "execution_count": 20
        }
      ],
      "source": [
        "data.drop(['no','Hotel name','rating','user type','room type','nights'], axis = 1, inplace = True)\n",
        "data.head(3)"
      ]
    },
    {
      "cell_type": "code",
      "execution_count": 21,
      "metadata": {
        "id": "EG7TlnWAxl4p"
      },
      "outputs": [],
      "source": [
        "df = data"
      ]
    },
    {
      "cell_type": "markdown",
      "metadata": {
        "id": "zt-HChYHv6oR"
      },
      "source": [
        "**the function of the preprocessing**"
      ]
    },
    {
      "cell_type": "code",
      "execution_count": 22,
      "metadata": {
        "id": "S06YfDBayo2C"
      },
      "outputs": [],
      "source": [
        "def preprocessing(x):\n",
        "    x = re.sub('@[^\\s]+', ' ', x)\n",
        "    x = re.sub('((www\\.[^\\s]+)|(https?://[^\\s]+))',' ',x)\n",
        "    \n",
        "    emoji_pattern = re.compile(\"[\"\n",
        "                               u\"\\U0001F600-\\U0001F64F\"  # emoticons\n",
        "                               u\"\\U0001F300-\\U0001F5FF\"  # symbols & pictographs\n",
        "                               u\"\\U0001F680-\\U0001F6FF\"  # transport & map symbols\n",
        "                               u\"\\U0001F1E0-\\U0001F1FF\"  # flags (iOS)\n",
        "                               u\"\\U00002500-\\U00002BEF\"  # chinese char\n",
        "                               u\"\\U00002702-\\U000027B0\"\n",
        "                               u\"\\U00002702-\\U000027B0\"\n",
        "                               u\"\\U000024C2-\\U0001F251\"\n",
        "                               u\"\\U0001f926-\\U0001f937\"\n",
        "                               u\"\\U00010000-\\U0010ffff\"\n",
        "                               u\"\\u2640-\\u2642\"\n",
        "                               u\"\\u2600-\\u2B55\"\n",
        "                               u\"\\u200d\"\n",
        "                               u\"\\u23cf\"\n",
        "                               u\"\\u23e9\"\n",
        "                               u\"\\u231a\"\n",
        "                               u\"\\ufe0f\"  # dingbats\n",
        "                               u\"\\u3030\"\"]+\", flags=re.UNICODE)\n",
        "    emoji_pattern.sub(r'', x)\n",
        "    \n",
        "    ar_punctuations = '''`÷×؛<>_()*&^%][ـ،/:\"؟.,'{}~¦+|!”…“–ـ#'''\n",
        "    en_punctuations = string.punctuation\n",
        "    punctuations = ar_punctuations + en_punctuations\n",
        "    x = x.translate(str.maketrans('', '', punctuations))\n",
        " \n",
        "    arabic_diacritics = re.compile(\"\"\" ّ    | # Tashdid\n",
        "                             َ    | # Fatha\n",
        "                             ً    | # Tanwin Fath\n",
        "                             ُ    | # Damma\n",
        "                             ٌ    | # Tanwin Damm\n",
        "                             ِ    | # Kasra\n",
        "                             ٍ    | # Tanwin Kasr\n",
        "                             ْ    | # Sukun\n",
        "                             ـ     # Tatwil/Kashida\n",
        "                         \"\"\", re.VERBOSE)\n",
        "    x = re.sub(arabic_diacritics, '', str(x)) \n",
        "    \n",
        "#     x = re.sub(\"[إأآا]\", \"ا\", x)\n",
        "#     x = re.sub(\"ى\", \"ي\", x)\n",
        "#     x = re.sub(\"ة\", \"ه\", x)\n",
        "#     x = re.sub(\"گ\", \"ك\", x)\n",
        "#     x = re.sub(r'(.)\\1+', r'\\1', x)\n",
        "    \n",
        "    return x\n",
        "\n"
      ]
    },
    {
      "cell_type": "markdown",
      "metadata": {
        "id": "-TA69444wCTs"
      },
      "source": [
        "**preprocessing the reviews and printing the time spent**"
      ]
    },
    {
      "cell_type": "code",
      "execution_count": 23,
      "metadata": {
        "colab": {
          "base_uri": "https://localhost:8080/"
        },
        "id": "dCa_gwMYyovM",
        "outputId": "0cf27627-b924-4b76-d66c-2e868bff808b"
      },
      "outputs": [
        {
          "output_type": "stream",
          "name": "stdout",
          "text": [
            "CPU times: user 3.15 s, sys: 16.3 ms, total: 3.17 s\n",
            "Wall time: 3.17 s\n"
          ]
        }
      ],
      "source": [
        "%%time\n",
        "data[\"Clean_reviews\"] = data.review.apply(lambda x: preprocessing(x))"
      ]
    },
    {
      "cell_type": "markdown",
      "metadata": {
        "id": "EYqZdx-hwMJc"
      },
      "source": [
        "**printing a review before and after preprocessing**"
      ]
    },
    {
      "cell_type": "code",
      "execution_count": 24,
      "metadata": {
        "colab": {
          "base_uri": "https://localhost:8080/"
        },
        "id": "uYBIFXA_yorI",
        "outputId": "12953c27-be76-4916-97d1-24913873c1e1"
      },
      "outputs": [
        {
          "output_type": "stream",
          "name": "stdout",
          "text": [
            "- Avant le prétraitement \n",
            "\n",
            " “جيدجداً”. الافطار جيد والسرير ممتاز ومريح واطلالة الغرفة رائعه. فرش ارضية الغرفه\n",
            "\n",
            "-----------------------------------------------\n",
            "\n",
            "- Après le prétraitement \n",
            "\n",
            " جيدجدا الافطار جيد والسرير ممتاز ومريح واطلالة الغرفة رائعه فرش ارضية الغرفه\n"
          ]
        }
      ],
      "source": [
        "print('- Avant le prétraitement \\n\\n',data[\"review\"][4])\n",
        "print(\"\\n-----------------------------------------------\\n\")\n",
        "print('- Après le prétraitement \\n\\n',data[\"Clean_reviews\"][4])"
      ]
    },
    {
      "cell_type": "markdown",
      "metadata": {
        "id": "3Vzp8SzAwVT0"
      },
      "source": [
        "**Saving the cleaned data in a csv file**"
      ]
    },
    {
      "cell_type": "code",
      "execution_count": 25,
      "metadata": {
        "id": "QRxgl3Mdyom2"
      },
      "outputs": [],
      "source": [
        "data.to_csv(\"cleaned_hard.csv\")"
      ]
    },
    {
      "cell_type": "markdown",
      "metadata": {
        "id": "-gaLBhEqxFm4"
      },
      "source": [
        "**asigning the reviews and classes to a new variables**\n",
        "\n",
        "\n"
      ]
    },
    {
      "cell_type": "code",
      "execution_count": 26,
      "metadata": {
        "id": "WpJPNTiJyojS"
      },
      "outputs": [],
      "source": [
        "X = data.Clean_reviews\n",
        "y = data.sentiment"
      ]
    },
    {
      "cell_type": "markdown",
      "metadata": {
        "id": "P4WSBjAMykJ9"
      },
      "source": [
        "**spliting the data to train and test set**\n",
        "\n"
      ]
    },
    {
      "cell_type": "code",
      "execution_count": 27,
      "metadata": {
        "id": "bpZ_HWVHyoe7"
      },
      "outputs": [],
      "source": [
        "X_train, X_test, y_train, y_test = train_test_split(X, \n",
        "                                                    y, \n",
        "                                                    test_size = 0.20, \n",
        "                                                    random_state = 42)"
      ]
    },
    {
      "cell_type": "markdown",
      "metadata": {
        "id": "Y4HZcNovzTam"
      },
      "source": [
        "**printing the number of the train set and the test set**"
      ]
    },
    {
      "cell_type": "code",
      "execution_count": 28,
      "metadata": {
        "colab": {
          "base_uri": "https://localhost:8080/"
        },
        "id": "pc1SqlVHyoaS",
        "outputId": "94095c50-6446-493c-941f-b9dbc2af57cf"
      },
      "outputs": [
        {
          "output_type": "stream",
          "name": "stdout",
          "text": [
            "Train set (84558,)\n",
            "Test set (21140,)\n"
          ]
        }
      ],
      "source": [
        "print('Train set', X_train.shape)\n",
        "print('Test set', X_test.shape)"
      ]
    },
    {
      "cell_type": "code",
      "execution_count": 29,
      "metadata": {
        "colab": {
          "base_uri": "https://localhost:8080/"
        },
        "id": "15X3aM6qgDm3",
        "outputId": "78efdcb7-3c25-4506-83c9-576554700e28"
      },
      "outputs": [
        {
          "output_type": "stream",
          "name": "stdout",
          "text": [
            "Drive already mounted at /content/gdrive; to attempt to forcibly remount, call drive.mount(\"/content/gdrive\", force_remount=True).\n"
          ]
        }
      ],
      "source": [
        "from google.colab import drive\n",
        "drive.mount('/content/gdrive')"
      ]
    },
    {
      "cell_type": "markdown",
      "metadata": {
        "id": "cI8tRb3Nz5aR"
      },
      "source": [
        "**Uploading the fsttext pretrained word embedding with 150 dimension**"
      ]
    },
    {
      "cell_type": "code",
      "execution_count": 30,
      "metadata": {
        "colab": {
          "base_uri": "https://localhost:8080/"
        },
        "id": "sJ3CP3XulykU",
        "outputId": "996d4211-daa8-4189-bdb8-f2f2d70fc2f3"
      },
      "outputs": [
        {
          "output_type": "stream",
          "name": "stdout",
          "text": [
            "CPU times: user 2min 29s, sys: 4.31 s, total: 2min 34s\n",
            "Wall time: 2min 41s\n"
          ]
        }
      ],
      "source": [
        "%%time\n",
        "target_word_vec = KeyedVectors.load_word2vec_format(\"/content/gdrive/MyDrive/thesis/cc.ar.150.vec\", binary = False)"
      ]
    },
    {
      "cell_type": "markdown",
      "metadata": {
        "id": "-pQIBI1c0OBw"
      },
      "source": [
        "**tokenization of the reviews**"
      ]
    },
    {
      "cell_type": "code",
      "execution_count": 31,
      "metadata": {
        "colab": {
          "base_uri": "https://localhost:8080/"
        },
        "id": "fXkSR3KGyoNv",
        "outputId": "7b68057d-11b3-4364-91c4-763ff9a46b0c"
      },
      "outputs": [
        {
          "output_type": "stream",
          "name": "stdout",
          "text": [
            "CPU times: user 3.36 s, sys: 41.2 ms, total: 3.4 s\n",
            "Wall time: 3.4 s\n"
          ]
        }
      ],
      "source": [
        "%%time\n",
        "tokenizer = Tokenizer()\n",
        "tokenizer.fit_on_texts(X_train)"
      ]
    },
    {
      "cell_type": "code",
      "execution_count": 32,
      "metadata": {
        "id": "L7UW4cKKyoKw"
      },
      "outputs": [],
      "source": [
        "word_index = tokenizer.word_index\n",
        "vocab_size = len(tokenizer.word_index) + 1"
      ]
    },
    {
      "cell_type": "markdown",
      "metadata": {
        "id": "N8LmKYq60SX6"
      },
      "source": [
        "**making all reviews of the same length 615**"
      ]
    },
    {
      "cell_type": "code",
      "execution_count": 33,
      "metadata": {
        "colab": {
          "base_uri": "https://localhost:8080/"
        },
        "id": "FDcsR7lYxl0Z",
        "outputId": "fb2858dc-1849-4718-e7ea-e8189484fb51"
      },
      "outputs": [
        {
          "output_type": "stream",
          "name": "stdout",
          "text": [
            "Training X Shape: (84558, 615)\n",
            "Testing X Shape: (21140, 615)\n",
            "CPU times: user 3.24 s, sys: 128 ms, total: 3.37 s\n",
            "Wall time: 3.37 s\n"
          ]
        }
      ],
      "source": [
        "%%time\n",
        "MAX_SEQUENCE_LENGTH = 615\n",
        "\n",
        "X_train = pad_sequences(tokenizer.texts_to_sequences(X_train),\n",
        "                        maxlen = MAX_SEQUENCE_LENGTH)\n",
        "X_test = pad_sequences(tokenizer.texts_to_sequences(X_test),\n",
        "                       maxlen = MAX_SEQUENCE_LENGTH)\n",
        "\n",
        "print(\"Training X Shape:\", X_train.shape)\n",
        "print(\"Testing X Shape:\", X_test.shape)"
      ]
    },
    {
      "cell_type": "markdown",
      "metadata": {
        "id": "DiIxpGhc0tkE"
      },
      "source": [
        "**Construction of the embedding matrix**"
      ]
    },
    {
      "cell_type": "code",
      "execution_count": 34,
      "metadata": {
        "colab": {
          "base_uri": "https://localhost:8080/"
        },
        "id": "owcBaGGn2JWz",
        "outputId": "064e17fe-d7d6-4ecd-cc6b-fd4345b8ac5e"
      },
      "outputs": [
        {
          "output_type": "stream",
          "name": "stdout",
          "text": [
            "CPU times: user 331 ms, sys: 72.1 ms, total: 403 ms\n",
            "Wall time: 401 ms\n"
          ]
        }
      ],
      "source": [
        "%%time\n",
        "embedding_matrix = np.zeros((vocab_size, 150))\n",
        "\n",
        "for word, i in word_index.items():\n",
        "    if word in target_word_vec :\n",
        "        embedding_vector = target_word_vec[word]\n",
        "        if embedding_vector is not None:\n",
        "            embedding_matrix[i] = embedding_vector"
      ]
    },
    {
      "cell_type": "code",
      "execution_count": 35,
      "metadata": {
        "colab": {
          "base_uri": "https://localhost:8080/"
        },
        "id": "Eqa9cn0_2JHa",
        "outputId": "3f958a83-42a1-4809-f927-48155aacd6a2"
      },
      "outputs": [
        {
          "output_type": "execute_result",
          "data": {
            "text/plain": [
              "True"
            ]
          },
          "metadata": {},
          "execution_count": 35
        }
      ],
      "source": [
        "embedding_matrix.shape[0] == vocab_size"
      ]
    },
    {
      "cell_type": "markdown",
      "metadata": {
        "id": "LOqaUPgk054V"
      },
      "source": [
        "**Creating the model**"
      ]
    },
    {
      "cell_type": "code",
      "execution_count": 36,
      "metadata": {
        "colab": {
          "base_uri": "https://localhost:8080/"
        },
        "id": "m58bq44X2JDr",
        "outputId": "92fa7c6a-3fd1-4a7c-a1e1-8f9f591963d0"
      },
      "outputs": [
        {
          "output_type": "stream",
          "name": "stdout",
          "text": [
            "Model: \"sequential\"\n",
            "_________________________________________________________________\n",
            " Layer (type)                Output Shape              Param #   \n",
            "=================================================================\n",
            " embedding (Embedding)       (None, 615, 150)          19810200  \n",
            "                                                                 \n",
            " lstm (LSTM)                 (None, 100)               100400    \n",
            "                                                                 \n",
            " dropout (Dropout)           (None, 100)               0         \n",
            "                                                                 \n",
            " dense (Dense)               (None, 1)                 101       \n",
            "                                                                 \n",
            "=================================================================\n",
            "Total params: 19,910,701\n",
            "Trainable params: 100,501\n",
            "Non-trainable params: 19,810,200\n",
            "_________________________________________________________________\n",
            "None\n"
          ]
        }
      ],
      "source": [
        "\n",
        "model = Sequential()\n",
        "embedding_layer = Embedding(vocab_size, \n",
        "                            150, \n",
        "                            weights = [embedding_matrix], \n",
        "                            input_length = MAX_SEQUENCE_LENGTH,\n",
        "                            trainable=False)\n",
        "model.add(embedding_layer)\n",
        "model.add(LSTM(100))\n",
        "model.add(Dropout(0.2))\n",
        "model.add(Dense(1, activation='sigmoid'))\n",
        "model.compile(optimizer = Adam(learning_rate=0.001), \n",
        "              loss = 'binary_crossentropy',\n",
        "              metrics = ['accuracy'])\n",
        "\n",
        "# es = EarlyStopping(monitor='val_loss', mode='min', verbose=1, patience=5)\n",
        "print(model.summary())"
      ]
    },
    {
      "cell_type": "markdown",
      "metadata": {
        "id": "t87TTNfP0_74"
      },
      "source": [
        "**fitting the model to the dataset**"
      ]
    },
    {
      "cell_type": "code",
      "execution_count": 37,
      "metadata": {
        "colab": {
          "base_uri": "https://localhost:8080/"
        },
        "id": "gAO_1wSM2I_l",
        "outputId": "82d497a6-d445-428f-ffdf-fae95b1b230d"
      },
      "outputs": [
        {
          "output_type": "stream",
          "name": "stdout",
          "text": [
            "Epoch 1/20\n",
            "562/562 [==============================] - 32s 44ms/step - loss: 0.6786 - accuracy: 0.6287 - val_loss: 0.6272 - val_accuracy: 0.7138\n",
            "Epoch 2/20\n",
            "562/562 [==============================] - 24s 42ms/step - loss: 0.3618 - accuracy: 0.8645 - val_loss: 0.2293 - val_accuracy: 0.9237\n",
            "Epoch 3/20\n",
            "562/562 [==============================] - 24s 43ms/step - loss: 0.2409 - accuracy: 0.9154 - val_loss: 0.1987 - val_accuracy: 0.9306\n",
            "Epoch 4/20\n",
            "562/562 [==============================] - 25s 44ms/step - loss: 0.2040 - accuracy: 0.9282 - val_loss: 0.1896 - val_accuracy: 0.9339\n",
            "Epoch 5/20\n",
            "562/562 [==============================] - 25s 45ms/step - loss: 0.1875 - accuracy: 0.9333 - val_loss: 0.1738 - val_accuracy: 0.9386\n",
            "Epoch 6/20\n",
            "562/562 [==============================] - 24s 43ms/step - loss: 0.1767 - accuracy: 0.9372 - val_loss: 0.1677 - val_accuracy: 0.9405\n",
            "Epoch 7/20\n",
            "562/562 [==============================] - 24s 43ms/step - loss: 0.1706 - accuracy: 0.9392 - val_loss: 0.1678 - val_accuracy: 0.9394\n",
            "Epoch 8/20\n",
            "562/562 [==============================] - 24s 43ms/step - loss: 0.1667 - accuracy: 0.9412 - val_loss: 0.1602 - val_accuracy: 0.9422\n",
            "Epoch 9/20\n",
            "562/562 [==============================] - 25s 45ms/step - loss: 0.1621 - accuracy: 0.9430 - val_loss: 0.1566 - val_accuracy: 0.9436\n",
            "Epoch 10/20\n",
            "562/562 [==============================] - 24s 43ms/step - loss: 0.1684 - accuracy: 0.9423 - val_loss: 0.1612 - val_accuracy: 0.9427\n",
            "Epoch 11/20\n",
            "562/562 [==============================] - 24s 43ms/step - loss: 0.2300 - accuracy: 0.9049 - val_loss: 0.1668 - val_accuracy: 0.9403\n",
            "Epoch 12/20\n",
            "562/562 [==============================] - 24s 43ms/step - loss: 0.2582 - accuracy: 0.9005 - val_loss: 0.1762 - val_accuracy: 0.9395\n",
            "Epoch 13/20\n",
            "562/562 [==============================] - 24s 43ms/step - loss: 0.1735 - accuracy: 0.9392 - val_loss: 0.1639 - val_accuracy: 0.9424\n",
            "Epoch 14/20\n",
            "562/562 [==============================] - 24s 43ms/step - loss: 0.1612 - accuracy: 0.9438 - val_loss: 0.1556 - val_accuracy: 0.9439\n",
            "Epoch 15/20\n",
            "562/562 [==============================] - 24s 43ms/step - loss: 0.1680 - accuracy: 0.9410 - val_loss: 0.1643 - val_accuracy: 0.9419\n",
            "Epoch 16/20\n",
            "562/562 [==============================] - 24s 43ms/step - loss: 0.1557 - accuracy: 0.9458 - val_loss: 0.1556 - val_accuracy: 0.9437\n",
            "Epoch 17/20\n",
            "562/562 [==============================] - 24s 43ms/step - loss: 0.1506 - accuracy: 0.9473 - val_loss: 0.1536 - val_accuracy: 0.9422\n",
            "Epoch 18/20\n",
            "562/562 [==============================] - 24s 43ms/step - loss: 0.1485 - accuracy: 0.9483 - val_loss: 0.1494 - val_accuracy: 0.9476\n",
            "Epoch 19/20\n",
            "562/562 [==============================] - 24s 43ms/step - loss: 0.1450 - accuracy: 0.9495 - val_loss: 0.1464 - val_accuracy: 0.9477\n",
            "Epoch 20/20\n",
            "562/562 [==============================] - 25s 45ms/step - loss: 0.1437 - accuracy: 0.9501 - val_loss: 0.1511 - val_accuracy: 0.9469\n"
          ]
        }
      ],
      "source": [
        "# history = model.fit(X_train, y_train, validation_split=0.15, batch_size = 128, epochs=20, verbose=1, callbacks=[es])\n",
        "\n",
        "history = model.fit(X_train, y_train, validation_split=0.15, batch_size = 128, epochs=20, verbose=1)"
      ]
    },
    {
      "cell_type": "code",
      "source": [
        "loss_train = history.history['loss']\n",
        "loss_val = history.history['val_loss']\n",
        "epochs = range(1,21)\n",
        "plt.plot(epochs, loss_train, 'g', label='Training loss')\n",
        "plt.plot(epochs, loss_val, 'b', label='validation loss')\n",
        "plt.title('Training and Validation loss')\n",
        "plt.xlabel('Epochs')\n",
        "plt.ylabel('Loss')\n",
        "plt.legend()\n",
        "plt.show()"
      ],
      "metadata": {
        "colab": {
          "base_uri": "https://localhost:8080/",
          "height": 295
        },
        "id": "XzgK9Z7t9_3C",
        "outputId": "9d4a77ff-cd92-43aa-9466-0dce9add53cb"
      },
      "execution_count": 38,
      "outputs": [
        {
          "output_type": "display_data",
          "data": {
            "text/plain": [
              "<Figure size 432x288 with 1 Axes>"
            ],
            "image/png": "[encoded data removed]"
          },
          "metadata": {
            "needs_background": "light"
          }
        }
      ]
    },
    {
      "cell_type": "code",
      "source": [
        "loss_train = history.history['accuracy']\n",
        "loss_val = history.history['val_accuracy']\n",
        "epochs = range(1,21)\n",
        "plt.plot(epochs, loss_train, 'g', label='Training accuracy')\n",
        "plt.plot(epochs, loss_val, 'b', label='validation accuracy')\n",
        "plt.title('Training and Validation accuracy')\n",
        "plt.xlabel('Epochs')\n",
        "plt.ylabel('Accuracy')\n",
        "plt.legend()\n",
        "plt.show()"
      ],
      "metadata": {
        "colab": {
          "base_uri": "https://localhost:8080/",
          "height": 295
        },
        "id": "Ia7VCWr0-EDq",
        "outputId": "6edbe6cf-f883-4703-99c8-ec9c95c290f0"
      },
      "execution_count": 39,
      "outputs": [
        {
          "output_type": "display_data",
          "data": {
            "text/plain": [
              "<Figure size 432x288 with 1 Axes>"
            ],
            "image/png": "[encoded data removed]"
          },
          "metadata": {
            "needs_background": "light"
          }
        }
      ]
    },
    {
      "cell_type": "code",
      "execution_count": 40,
      "metadata": {
        "colab": {
          "base_uri": "https://localhost:8080/"
        },
        "id": "t9z560Wi2I6o",
        "outputId": "4fa8ae41-bc0a-482b-c430-7990e02d7f9e"
      },
      "outputs": [
        {
          "output_type": "stream",
          "name": "stdout",
          "text": [
            "661/661 [==============================] - 8s 12ms/step - loss: 0.1546 - accuracy: 0.9445\n",
            "accuracy: 94.45%\n"
          ]
        }
      ],
      "source": [
        "score = model.evaluate(X_test, y_test, verbose=1)\n",
        "print(\"%s: %.2f%%\" % (model.metrics_names[1], score[1]*100))"
      ]
    },
    {
      "cell_type": "code",
      "execution_count": 41,
      "metadata": {
        "id": "VhR8wqg72I2a"
      },
      "outputs": [],
      "source": [
        "def decode_sentiment(score):\n",
        "    return 1 if score>0.5 else 0"
      ]
    },
    {
      "cell_type": "code",
      "execution_count": 42,
      "metadata": {
        "colab": {
          "base_uri": "https://localhost:8080/"
        },
        "id": "mKgiUmS329sV",
        "outputId": "c71e151f-fe03-440d-bddd-356562c7b2c1"
      },
      "outputs": [
        {
          "output_type": "stream",
          "name": "stdout",
          "text": [
            "661/661 [==============================] - 7s 10ms/step\n"
          ]
        }
      ],
      "source": [
        "scores = model.predict(X_test, verbose=1)\n",
        "\n",
        "y_pred = [decode_sentiment(x) for x in scores]\n"
      ]
    },
    {
      "cell_type": "code",
      "execution_count": 43,
      "metadata": {
        "id": "DhC7jTvN29Wd",
        "colab": {
          "base_uri": "https://localhost:8080/"
        },
        "outputId": "93f803d4-99d6-4c28-a97a-276003622b05"
      },
      "outputs": [
        {
          "output_type": "stream",
          "name": "stdout",
          "text": [
            "              precision    recall  f1-score   support\n",
            "\n",
            "           0       0.95      0.94      0.94     10600\n",
            "           1       0.94      0.95      0.94     10540\n",
            "\n",
            "    accuracy                           0.94     21140\n",
            "   macro avg       0.94      0.94      0.94     21140\n",
            "weighted avg       0.94      0.94      0.94     21140\n",
            "\n"
          ]
        }
      ],
      "source": [
        "print(classification_report(y_test, y_pred))"
      ]
    },
    {
      "cell_type": "markdown",
      "metadata": {
        "id": "zm1S_eVC1YQH"
      },
      "source": [
        "**function for creating confusion matrix**"
      ]
    },
    {
      "cell_type": "code",
      "execution_count": 44,
      "metadata": {
        "id": "C9wpCE6K29RD"
      },
      "outputs": [],
      "source": [
        "def plot_confusion_matrix(cm, classes,\n",
        "                          title='Confusion matrix',\n",
        "                          cmap=plt.cm.Blues):\n",
        "    \"\"\"\n",
        "    This function prints and plots the confusion matrix.\n",
        "    Normalization can be applied by setting `normalize=True`.\n",
        "    \"\"\"\n",
        "\n",
        "    cm = cm.astype('float') / cm.sum(axis=1)[:, np.newaxis]\n",
        "\n",
        "    plt.imshow(cm, interpolation='nearest', cmap=cmap)\n",
        "    plt.title(title, fontsize=20)\n",
        "    plt.colorbar()\n",
        "    tick_marks = np.arange(len(classes))\n",
        "    plt.xticks(tick_marks, classes, fontsize=13)\n",
        "    plt.yticks(tick_marks, classes, fontsize=13)\n",
        "\n",
        "    fmt = '.2f'\n",
        "    thresh = cm.max() / 2.\n",
        "    for i, j in itertools.product(range(cm.shape[0]), range(cm.shape[1])):\n",
        "        plt.text(j, i, format(cm[i, j], fmt),\n",
        "                 horizontalalignment=\"center\",\n",
        "                 color=\"white\" if cm[i, j] > thresh else \"black\")\n",
        "\n",
        "    plt.ylabel('True label', fontsize=17)\n",
        "    plt.xlabel('Predicted label', fontsize=17)"
      ]
    },
    {
      "cell_type": "markdown",
      "metadata": {
        "id": "WRT8-dl56eeJ"
      },
      "source": [
        "**printing the confusion matrix**"
      ]
    },
    {
      "cell_type": "code",
      "execution_count": 45,
      "metadata": {
        "colab": {
          "base_uri": "https://localhost:8080/",
          "height": 370
        },
        "id": "wPe6GcS93STT",
        "outputId": "1a87c545-0b7c-45bc-c7c9-6c11b59350dd"
      },
      "outputs": [
        {
          "output_type": "display_data",
          "data": {
            "text/plain": [
              "<Figure size 432x432 with 2 Axes>"
            ],
            "image/png": "[encoded data removed]"
          },
          "metadata": {
            "needs_background": "light"
          }
        }
      ],
      "source": [
        "cnf_matrix = confusion_matrix(y_test.to_list(), y_pred)\n",
        "plt.figure(figsize=(6,6))\n",
        "plot_confusion_matrix(cnf_matrix, classes=y_test.unique(), title=\"Confusion matrix\")\n",
        "plt.show()"
      ]
    }
  ],
  "metadata": {
    "accelerator": "GPU",
    "colab": {
      "collapsed_sections": [],
      "name": " Sentiment Analysis - LSTM(Using HARD Dataset) -.ipynb",
      "provenance": []
    },
    "kernelspec": {
      "display_name": "Python 3",
      "name": "python3"
    },
    "language_info": {
      "name": "python"
    }
  },
  "nbformat": 4,
  "nbformat_minor": 0
}